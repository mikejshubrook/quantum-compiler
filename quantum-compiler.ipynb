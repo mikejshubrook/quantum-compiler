{
 "cells": [
  {
   "cell_type": "markdown",
   "metadata": {},
   "source": [
    "This work was done as part of a three month project in collaboration with the Ion Technology group at the University of Sussex.\n",
    "\n",
    "In this file we are going to describe some basic concepts in quantum compilation, showing how to implement compilation of quantum gates using Qiskit modules, and finally produce a simulated quantum circuit that we have compiled into the native gate set of a trapped ion quantum computer.\n",
    "\n",
    "(I updated the code in 2025 to work on the newer version of Qiskit)"
   ]
  },
  {
   "cell_type": "markdown",
   "metadata": {},
   "source": [
    "# Classical and quantum compilation"
   ]
  },
  {
   "cell_type": "markdown",
   "metadata": {},
   "source": [
    "Explaining things in quantum mechanics (or quantum information theory, or quantum computing) is usually made easier by making analogies to the classical case where possible. For that reason, we will begin by understanding classical compilation.\n",
    "\n",
    "Compilation is the process of taking code written in a high level programming language (e.g. Python, C++, HTML, etc.) and converting it into the machine language that a computer can 'understand'. At its lowest level, machine language are the 'zeros and ones' that we often hear of.\n",
    "\n",
    "Quantum compilation is similar to classical compilation, in that we take a 'high-level' quantum algorithm (which can be expressed as an arbitrary unitary matrix on  qubits) and decompose it into a set of gates that we can actually perform on a quantum computer."
   ]
  },
  {
   "cell_type": "markdown",
   "metadata": {},
   "source": [
    "# Why do we need to compile?"
   ]
  },
  {
   "cell_type": "markdown",
   "metadata": {},
   "source": [
    "By combining unitaries together using tensory products and sequential multiplication, we can express arbitrary quantum algorithms on $n$ qubits as a single unitary opertor in a $2^{n}$ dimensional Hilbert space. If we can express an arbitrary quantum algorithm as a unitary matrix on $n$ qubits, why can't our quantum computers just implement this gate as it is? The answer is that there is no proposed way to implement gates on anything but one or two qubits. Additionally, quantum computers have very large engineering hurdles to overcome in their current state (only implementing single and two qubit gates), so being able to perform gates on multiple qubits is very unlikely to work.\n",
    "\n",
    "Quantum computation can be implemented on different engineering platforms, such as trapped ions, photons or superconducting qubits. Each of these has their own pros and cons, such as coherence time, gate fidelity, and measurement fidelity. They also all have their own native gate sets, which are the set of gates that can actually be performed on them.\n",
    "\n",
    "We can think of the native gate set as the 'machine language' of the quantum computer. So long as the native gate set is a universal set, then we can approximate any unitary, and therefore any quantum algorithm, on this quantum computer. For a native gate set to be universal, we mean that any unitary can be approximated to arbitrary accuracy using chains of gates in the set."
   ]
  },
  {
   "cell_type": "markdown",
   "metadata": {},
   "source": [
    "# What are the different steps of decomposition?\\n\",\n",
    "Say we have a quantum algorithm on $n$ qubits that we want to perform on a quantum computer. We know that this algorithm can be written as a unitary matrix belonging to the group $U \\in SU(2^{n})$. From [1] we know that this unitary can be *exactly* decomposed into a product of so called two-level unitaries. These are unitaries that only act non-trivially on two basis states. We also know that these two level unitaries can in turn be exactly decomposed into products of arbitrary single qubit gates, and a two qubit entangling gate such as the CNOT. Putting these ideas together, we find out that arbitrary quantum algorithms can be exactly decomposed into products of arbitrary single qubit gates, and two qubit entangling gates.\n",
    "\n",
    "So if the native gate set of our quantum computer has access to these gates, we are able to *exactly* execute *any* quantum algorithm on it. Unfortunely, no quantum computing platforms have this capability. By 'arbitrary single qubit gates', what we mean is a rotation on the Bloch sphere, by *any* angle, along *any* axis. The best that quantum computing platforms are able to do is rotations on the Bloch sphere by any angle, along two fixed, perpedicular, axes. Thankfully, though, combinations of such gates allow us to approximate the arbitrary single qubits we require.\n",
    "\n",
    "So as long as our quantum computer has access to two single qubit rotations, of arbitray angle, along two perpendicular axes of the Bloch sphere, and also has access to a two qubit entangling gate, then we can approximate any unitary with it (and therefore execute any quantum algorithm). Such a set of gates is referred to as a universal gate set."
   ]
  },
  {
   "cell_type": "markdown",
   "metadata": {},
   "source": [
    "# Tradeoffs in compilation\n",
    "    \n",
    "We can approximate a unitary that we want to implement by chaining together more and more gates from our native gate set. The more gates we use in our approximation the better it will be. If we want to improve the fidelity of our quantum computer, should we just chain together loads and loads of gates from the native gate set, to approximate the unitaries making up the quantum algorithm as closely as possible? No. That idea ignores the fact that each time we phyiscally implement a gate from the native gate set, there is some error associated with it. For this reason, there will be a trade off in the number of gates we use to approximate the unitary that represents the quantum algorithm we want to implement: more gates means that we get a better approximation, but more gates also means more error is accumulated."
   ]
  },
  {
   "cell_type": "markdown",
   "metadata": {},
   "source": [
    "# How does our simulator work?\n",
    "\n",
    "The main goal of this work is to test the fidelity of decomposition. We cannot perform the random two qubit gates used in our quantum volume calculator on a real quantum computer, but we can approximate them using our native gate set.\n",
    "\n",
    "In this file, we will run two different quantum circuits using the qiskit library. One will run the random two qubit gates as they are, and the other will decompose them into gates that can actually be performed on a trapped ion quantum computer. We will also add noise to this decomposed circuit, to simulate the errors that qubits in real systems pick up (in the form of decoherence, gate errors, and measurement errors). At the end, we run both circuits (ideal and noisy) and then compare the output states from the two. In this way, we can calculate the fidelity of our decomposed circuit, using the Uhlmann's measure of state fidelity [2].\n",
    "\n",
    "We can then decide on a reasonable fidelity, say 95%, and define the quantum volume as $nm$, provided that the fidelity is above 95%.\n",
    "\n",
    "We will see below that there are many trade offs to consider when decomposing circuits. We hope that this file will be interesting for users to play around with, and will also provide a good understanding of quantum gate decomposition. Please see the references at the end of the file for an in depth explanation of the concepts in this file.\n"
   ]
  },
  {
   "cell_type": "markdown",
   "metadata": {},
   "source": [
    "# Imports"
   ]
  },
  {
   "cell_type": "code",
   "execution_count": 13,
   "metadata": {},
   "outputs": [],
   "source": [
    "# import regular python packages\n",
    "import numpy as np\n",
    "from numpy.polynomial import Polynomial as P\n",
    "import random\n"
   ]
  },
  {
   "cell_type": "code",
   "execution_count": 14,
   "metadata": {},
   "outputs": [],
   "source": [
    "# visualisation\n",
    "from qiskit.visualization import plot_histogram\n",
    "# Import from Qiskit Aer noise module\n",
    "from qiskit_aer.noise import NoiseModel, pauli_error, depolarizing_error, reset_error, thermal_relaxation_error\n",
    "# Operators\n",
    "from qiskit.quantum_info import random_unitary\n",
    "\n"
   ]
  },
  {
   "cell_type": "code",
   "execution_count": 15,
   "metadata": {},
   "outputs": [],
   "source": [
    "# import other functions for the compiler\n",
    "from fidelity_measures import *\n",
    "from circuit import *\n",
    "from trapped_ion_noise import *\n",
    "from qiskit.circuit.library import CXGate, RXXGate\n"
   ]
  },
  {
   "cell_type": "markdown",
   "metadata": {},
   "source": [
    "# Define basis gate (two-qubit gate) and Euler basis (to decompose single qubit gates)"
   ]
  },
  {
   "cell_type": "markdown",
   "metadata": {},
   "source": [
    "This is where we decide the specific quantum computing architecture to perform the compilation on. Different architectures have different native gate sets which will be used in the decomposition process.\n",
    "\n",
    "Currently, the code is hard-coded to work with the native gate set of a trapped-ion quantum computer. In order to change this, the rotations within the 'make_circuit' function as well as the 'process_circuit_angles' function within 'circuit.py' need to be changed. Depending on the Euler basis (which is currently XYX), the 'rx' an 'ry' rotations need to be changed. Depending on the two-qubit basis gate (which is currently the RXX gate with a rotation angle of $\\frac{\\pi}{2}$, equivalent to the Molmer Sorensen gate) the 'rxx' gate needs to be changed."
   ]
  },
  {
   "cell_type": "code",
   "execution_count": 16,
   "metadata": {},
   "outputs": [],
   "source": [
    "# basis_gate = MolmerSorensen(np.pi/4)  # basis gate\n",
    "basis_gate = RXXGate(np.pi/2)  # basis gate\n",
    "euler_basis = \"XYX\"  # Euler basis \n"
   ]
  },
  {
   "cell_type": "markdown",
   "metadata": {},
   "source": [
    "# Choose the number of qubits and circuit depth"
   ]
  },
  {
   "cell_type": "code",
   "execution_count": 17,
   "metadata": {},
   "outputs": [],
   "source": [
    "number_of_qubits = 5 #choose number of qubits\n",
    "circuit_depth = 3 #choose depth of circuit"
   ]
  },
  {
   "cell_type": "markdown",
   "metadata": {},
   "source": [
    "# Add errors to gates creating a NoiseModel"
   ]
  },
  {
   "cell_type": "code",
   "execution_count": 18,
   "metadata": {},
   "outputs": [],
   "source": [
    "# The errors that we show hereare specific to a trapped-ion quantum computer. \n",
    "# For users who want to simulate different hardware, a unique NoiseModel should be created.\n",
    "total_noise_model = trapped_ion_noise_model(number_of_qubits, circuit_depth)\n",
    "\n",
    "# turn all the noise off\n",
    "# This should increase the fidelity of the compiled circuit to (close to) 1.\n",
    "# total_noise_model = None"
   ]
  },
  {
   "cell_type": "code",
   "execution_count": 19,
   "metadata": {},
   "outputs": [
    {
     "name": "stdout",
     "output_type": "stream",
     "text": [
      "NoiseModel:\n",
      "  Basis gates: ['rx', 'rxx', 'ry', 'rz']\n",
      "  Instructions with noise: ['ry', 'rx', 'rz', 'rxx']\n",
      "  Qubits with noise: [0, 1, 2, 3, 4]\n",
      "  Specific qubit errors: [('rz', (0,)), ('rz', (1,)), ('rz', (2,)), ('rz', (3,)), ('rz', (4,)), ('rx', (0,)), ('rx', (1,)), ('rx', (2,)), ('rx', (3,)), ('rx', (4,)), ('ry', (0,)), ('ry', (1,)), ('ry', (2,)), ('ry', (3,)), ('ry', (4,)), ('rxx', (0, 1)), ('rxx', (0, 2)), ('rxx', (0, 3)), ('rxx', (0, 4)), ('rxx', (1, 0)), ('rxx', (1, 2)), ('rxx', (1, 3)), ('rxx', (1, 4)), ('rxx', (2, 0)), ('rxx', (2, 1)), ('rxx', (2, 3)), ('rxx', (2, 4)), ('rxx', (3, 0)), ('rxx', (3, 1)), ('rxx', (3, 2)), ('rxx', (3, 4)), ('rxx', (4, 0)), ('rxx', (4, 1)), ('rxx', (4, 2)), ('rxx', (4, 3))]\n"
     ]
    }
   ],
   "source": [
    "print(total_noise_model)"
   ]
  },
  {
   "cell_type": "markdown",
   "metadata": {},
   "source": [
    "# Run the decomposition and simulator"
   ]
  },
  {
   "cell_type": "code",
   "execution_count": null,
   "metadata": {},
   "outputs": [
    {
     "name": "stdout",
     "output_type": "stream",
     "text": [
      "--- Run 1 of 3 ---\n",
      "Shuffling qubits...\n",
      "Two qubit gate between qubits 1 and 4 -- Optimal decomposition with 3 basis gates\n",
      "Two qubit gate between qubits 2 and 3 -- Optimal decomposition with 3 basis gates\n",
      "Identity applied to Qubit 0\n",
      "\n",
      "--- Run 2 of 3 ---\n",
      "Shuffling qubits...\n",
      "Two qubit gate between qubits 4 and 0 -- Optimal decomposition with 3 basis gates\n",
      "Two qubit gate between qubits 3 and 2 -- Optimal decomposition with 3 basis gates\n",
      "Identity applied to Qubit 1\n",
      "\n",
      "--- Run 3 of 3 ---\n",
      "Shuffling qubits...\n",
      "Two qubit gate between qubits 1 and 4 -- Optimal decomposition with 3 basis gates\n",
      "Two qubit gate between qubits 3 and 2 -- Optimal decomposition with 3 basis gates\n",
      "Identity applied to Qubit 0\n",
      "\n"
     ]
    },
    {
     "data": {
      "image/png": "[encoded data removed]",
      "text/plain": [
       "<Figure size 600x400 with 1 Axes>"
      ]
     },
     "execution_count": 25,
     "metadata": {},
     "output_type": "execute_result"
    }
   ],
   "source": [
    "# TODO:\n",
    "# make this section below into a function\n",
    "# make it possible to test the same circuit with and without noise so that we can see\n",
    "# the effect of noise on the fidelity of the compiled circuit\n",
    "\n",
    "#create ideal quantum circuit (no decomposition, no noise)\n",
    "qc_exact = QuantumCircuit(number_of_qubits,number_of_qubits)\n",
    "\n",
    "#create noisy quantum circuit (decomposition and noise)\n",
    "qc_noisy = QuantumCircuit(number_of_qubits,number_of_qubits)\n",
    "\n",
    "# list of qubit labels\n",
    "qb_label = np.arange(0, number_of_qubits).tolist() \n",
    "\n",
    "#loop through depth of circuit\n",
    "for d in range(circuit_depth):\n",
    "    print(f'--- Run {d+1} of {circuit_depth} ---')\n",
    "    # shuffle the qubit labels to pair them randomly\n",
    "    #create random list of ints from 1 to n to use in pairing qubits randomly\n",
    "    random.shuffle(qb_label)\n",
    "    print(f'Shuffling qubits...')\n",
    "\n",
    "    for m in np.arange(0,number_of_qubits): \n",
    "        # loop through all qubits in exact (noisy) circuit and add an identity (rz(0)) for shuttling\n",
    "        # this assumes that there is shuttling inbetween each layer of depth to get qubits next to each other in order to perform two qubit gates\n",
    "        qc_exact.id(m) # shuttle each qubit in the ideal circuit\n",
    "        qc_noisy.rz(0, m) # shuttle each qubit in the noisy circuit\n",
    " \n",
    "    for n in np.arange(0,number_of_qubits,2):\n",
    "\n",
    "        # if there are an odd number of qubits, add an identity to the last one then...\n",
    "        # this will add some decoherence to this qubit (in the noisy circuit) while it is not being used\n",
    "        if len(qb_label) % 2 == 1 and n == number_of_qubits-1:\n",
    "            print(f'Identity applied to Qubit {qb_label[n]}\\n')\n",
    "            qc_exact.id(qb_label[n])\n",
    "            qc_noisy.id(qb_label[n])\n",
    "\n",
    "        # pair qubits together and create a random two-qubit gates between them\n",
    "        else:\n",
    "            \n",
    "            #for each (random) pair of qubits create a random two qubit gate\n",
    "            target_unitary = Operator(random_unitary(4))\n",
    "\n",
    "            # add the target unitary to the ideal circuit\n",
    "            qc_exact.unitary(target_unitary, [qb_label[n], qb_label[n+1]], label=f'U{qb_label[n], qb_label[n+1]}')\n",
    "\n",
    "            # find the optimal decomposition for the target unitary, in terms of basis gates and SWAP         \n",
    "            optimal_basis_count, optimal_angles = optimal_basis_gate_number(target_unitary, basis_gate, euler_basis, total_noise_model)\n",
    "            print(f'Two qubit gate between qubits {qb_label[n]} and {qb_label[n+1]} -- Optimal decomposition with {optimal_basis_count} basis gates')\n",
    "\n",
    "            # use the optimal number of basis gates and add to the circuit\n",
    "            # if optimal decomposition uses a SWAP gate, then swap the qubits within in the noisy circuit\n",
    "            \n",
    "            make_circuit(optimal_angles, optimal_basis_count, qc_noisy, qb_label[n], qb_label[n+1])\n",
    "\n",
    "\n",
    "# run both circuits, calculate fidelity and plot histograms\n",
    "fid, counts_exact, counts_decomp = circuit_fidelity(number_of_qubits, qc_exact, qc_noisy, total_noise_model)\n",
    "\n",
    "legend = ['Ideal', 'Noisy']\n",
    "\n",
    "plot_histogram([counts_exact, counts_decomp], figsize=(6,4), legend=legend, color=['crimson','midnightblue'],\n",
    "                title=f'Fidelity = {fid:.10f}')"
   ]
  },
  {
   "cell_type": "markdown",
   "metadata": {},
   "source": [
    "# Print the ideal circuit"
   ]
  },
  {
   "cell_type": "code",
   "execution_count": 22,
   "metadata": {},
   "outputs": [
    {
     "name": "stdout",
     "output_type": "stream",
     "text": [
      "     ┌───┐┌──────────┐┌───┐┌──────────┐   ┌───┐                     »\n",
      "q_0: ┤ I ├┤0         ├┤ I ├┤0         ├───┤ I ├─────────────────────»\n",
      "     ├───┤│  U(0, 1) │├───┤│  U(0, 1) │   ├───┤         ┌──────────┐»\n",
      "q_1: ┤ I ├┤1         ├┤ I ├┤1         ├───┤ I ├─────────┤0         ├»\n",
      "     ├───┤├──────────┤├───┤└──────────┘┌──┴───┴───┐┌───┐│          │»\n",
      "q_2: ┤ I ├┤0         ├┤ I ├────────────┤0         ├┤ I ├┤  U(1, 3) ├»\n",
      "     ├───┤│          │├───┤   ┌───┐    │  U(2, 3) │├───┤│          │»\n",
      "q_3: ┤ I ├┤  U(2, 4) ├┤ I ├───┤ I ├────┤1         ├┤ I ├┤1         ├»\n",
      "     ├───┤│          │├───┤   ├───┤    └──┬───┬───┘└───┘└──────────┘»\n",
      "q_4: ┤ I ├┤1         ├┤ I ├───┤ I ├───────┤ I ├─────────────────────»\n",
      "     └───┘└──────────┘└───┘   └───┘       └───┘                     »\n",
      "c: 5/═══════════════════════════════════════════════════════════════»\n",
      "                                                                    »\n",
      "«     ┌──────────┐     ┌─┐         \n",
      "«q_0: ┤0         ├─────┤M├─────────\n",
      "«     │          │     └╥┘┌─┐      \n",
      "«q_1: ┤          ├──────╫─┤M├──────\n",
      "«     │          │┌───┐ ║ └╥┘┌─┐   \n",
      "«q_2: ┤  U(0, 4) ├┤ I ├─╫──╫─┤M├───\n",
      "«     │          │└┬─┬┘ ║  ║ └╥┘   \n",
      "«q_3: ┤          ├─┤M├──╫──╫──╫────\n",
      "«     │          │ └╥┘  ║  ║  ║ ┌─┐\n",
      "«q_4: ┤1         ├──╫───╫──╫──╫─┤M├\n",
      "«     └──────────┘  ║   ║  ║  ║ └╥┘\n",
      "«c: 5/══════════════╩═══╩══╩══╩══╩═\n",
      "«                   3   0  1  2  4 \n"
     ]
    }
   ],
   "source": [
    "print(qc_exact)"
   ]
  },
  {
   "cell_type": "markdown",
   "metadata": {},
   "source": [
    "# Print the Noisy/Decomposed Circuit"
   ]
  },
  {
   "cell_type": "code",
   "execution_count": 23,
   "metadata": {},
   "outputs": [
    {
     "name": "stdout",
     "output_type": "stream",
     "text": [
      "     ┌───────┐ ┌────────────┐┌────────────┐┌─────────────┐┌───────────┐»\n",
      "q_0: ┤ Rz(0) ├─┤ Rx(1.3555) ├┤ Ry(1.4725) ├┤ Rx(-2.7226) ├┤0          ├»\n",
      "     ├───────┤┌┴────────────┤├────────────┤└┬────────────┤│  Rxx(π/2) │»\n",
      "q_1: ┤ Rz(0) ├┤ Rx(-2.7504) ├┤ Ry(1.1116) ├─┤ Rx(1.4612) ├┤1          ├»\n",
      "     ├───────┤├─────────────┤├────────────┤ ├────────────┤├───────────┤»\n",
      "q_2: ┤ Rz(0) ├┤ Rx(-2.0238) ├┤ Ry(1.6227) ├─┤ Rx(-2.057) ├┤0          ├»\n",
      "     ├───────┤└────┬───┬────┘└─┬───────┬──┘┌┴────────────┤│           │»\n",
      "q_3: ┤ Rz(0) ├─────┤ I ├───────┤ Rz(0) ├───┤ Rx(-2.1166) ├┤  Rxx(π/2) ├»\n",
      "     ├───────┤┌────┴───┴────┐┌─┴───────┴──┐└┬────────────┤│           │»\n",
      "q_4: ┤ Rz(0) ├┤ Rx(0.64396) ├┤ Ry(2.4287) ├─┤ Rx(2.8918) ├┤1          ├»\n",
      "     └───────┘└─────────────┘└────────────┘ └────────────┘└───────────┘»\n",
      "c: 5/══════════════════════════════════════════════════════════════════»\n",
      "                                                                       »\n",
      "«      ┌──────────┐ ┌─────────────┐   ┌──────────┐ ┌───────────┐ ┌──────────┐»\n",
      "«q_0: ─┤ Rx(-π/4) ├─┤ Ry(0.61604) ├───┤ Rx(3π/4) ├─┤0          ├─┤ Rx(3π/4) ├»\n",
      "«      ├─────────┬┘ └─┬─────────┬─┘ ┌─┴──────────┴┐│  Rxx(π/2) │┌┴──────────┤»\n",
      "«q_1: ─┤ Rx(π/4) ├────┤ Ry(π/2) ├───┤ Rx(0.54652) ├┤1          ├┤ Rx(-3π/4) ├»\n",
      "«      ├─────────┴┐ ┌─┴─────────┴─┐ └─┬──────────┬┘├───────────┤└┬──────────┤»\n",
      "«q_2: ─┤ Rx(-π/4) ├─┤ Ry(0.66849) ├───┤ Rx(3π/4) ├─┤0          ├─┤ Rx(3π/4) ├»\n",
      "«     ┌┴──────────┴┐├─────────────┴┐  └──────────┘ │           │ └──────────┘»\n",
      "«q_3: ┤ Ry(2.0603) ├┤ Rx(-0.97514) ├───────────────┤  Rxx(π/2) ├─────────────»\n",
      "«     └┬─────────┬─┘└─┬─────────┬──┘┌─────────────┐│           │┌───────────┐»\n",
      "«q_4: ─┤ Rx(π/4) ├────┤ Ry(π/2) ├───┤ Rx(0.47278) ├┤1          ├┤ Rx(-3π/4) ├»\n",
      "«      └─────────┘    └─────────┘   └─────────────┘└───────────┘└───────────┘»\n",
      "«c: 5/═══════════════════════════════════════════════════════════════════════»\n",
      "«                                                                            »\n",
      "«     ┌─────────────┐┌─────────┐ ┌───────────┐┌─────────────┐┌─────────────┐»\n",
      "«q_0: ┤ Ry(0.42485) ├┤ Rx(π/4) ├─┤0          ├┤ Rx(-1.7112) ├┤ Ry(0.28144) ├»\n",
      "«     └─┬─────────┬─┘├─────────┴┐│  Rxx(π/2) │└┬────────────┤├─────────────┤»\n",
      "«q_1: ──┤ Ry(π/2) ├──┤ Rx(-π/4) ├┤1          ├─┤ Rx(1.9757) ├┤ Ry(0.37179) ├»\n",
      "«     ┌─┴─────────┴─┐├─────────┬┘├───────────┤┌┴────────────┤└┬────────────┤»\n",
      "«q_2: ┤ Ry(0.16157) ├┤ Rx(π/4) ├─┤0          ├┤ Rx(0.97021) ├─┤ Ry(1.4635) ├»\n",
      "«     └─────────────┘└─────────┘ │           │└─────────────┘ └────────────┘»\n",
      "«q_3: ───────────────────────────┤  Rxx(π/2) ├──────────────────────────────»\n",
      "«       ┌─────────┐  ┌──────────┐│           │┌─────────────┐ ┌────────────┐»\n",
      "«q_4: ──┤ Ry(π/2) ├──┤ Rx(-π/4) ├┤1          ├┤ Rx(-2.0926) ├─┤ Ry(2.9634) ├»\n",
      "«       └─────────┘  └──────────┘└───────────┘└─────────────┘ └────────────┘»\n",
      "«c: 5/══════════════════════════════════════════════════════════════════════»\n",
      "«                                                                           »\n",
      "«     ┌─────────────┐┌───────┐┌──────────────┐┌────────────┐┌─────────────┐ »\n",
      "«q_0: ┤ Rx(-2.8912) ├┤ Rz(0) ├┤ Rx(-0.31413) ├┤ Ry(2.9114) ├┤ Rx(0.86991) ├─»\n",
      "«     └┬────────────┤├───────┤└┬────────────┬┘├────────────┤├─────────────┤ »\n",
      "«q_1: ─┤ Rx(2.3838) ├┤ Rz(0) ├─┤ Rx(1.3892) ├─┤ Ry(2.2029) ├┤ Rx(-2.2748) ├─»\n",
      "«     ┌┴────────────┤├───────┤┌┴────────────┤ ├────────────┤├─────────────┴┐»\n",
      "«q_2: ┤ Rx(-1.6045) ├┤ Rz(0) ├┤ Rx(0.35179) ├─┤ Ry(1.9416) ├┤ Rx(-0.36851) ├»\n",
      "«     └─────────────┘└───────┘└─────────────┘ └────────────┘└──────────────┘»\n",
      "«q_3: ──────────────────────────────────────────────────────────────────────»\n",
      "«     ┌─────────────┐┌───────┐     ┌───┐        ┌───────┐    ┌────────────┐ »\n",
      "«q_4: ┤ Rx(-0.1531) ├┤ Rz(0) ├─────┤ I ├────────┤ Rz(0) ├────┤ Rx(1.4519) ├─»\n",
      "«     └─────────────┘└───────┘     └───┘        └───────┘    └────────────┘ »\n",
      "«c: 5/══════════════════════════════════════════════════════════════════════»\n",
      "«                                                                           »\n",
      "«     ┌───────────┐  ┌──────────┐  ┌────────────┐  ┌──────────┐  ┌───────────┐»\n",
      "«q_0: ┤0          ├──┤ Rx(-π/4) ├──┤ Ry(0.4873) ├──┤ Rx(3π/4) ├──┤0          ├»\n",
      "«     │  Rxx(π/2) │  ├─────────┬┘  └┬─────────┬─┘┌─┴──────────┴─┐│  Rxx(π/2) │»\n",
      "«q_1: ┤1          ├──┤ Rx(π/4) ├────┤ Ry(π/2) ├──┤ Rx(0.025521) ├┤1          ├»\n",
      "«     ├───────────┤  ├─────────┴┐ ┌─┴─────────┴─┐└─┬──────────┬─┘├───────────┤»\n",
      "«q_2: ┤0          ├──┤ Rx(-π/4) ├─┤ Ry(0.62022) ├──┤ Rx(3π/4) ├──┤0          ├»\n",
      "«     │  Rxx(π/2) │  ├─────────┬┘ └─┬─────────┬─┘┌─┴──────────┴┐ │  Rxx(π/2) │»\n",
      "«q_3: ┤1          ├──┤ Rx(π/4) ├────┤ Ry(π/2) ├──┤ Rx(0.74485) ├─┤1          ├»\n",
      "«     ├───────────┴┐┌┴─────────┴─┐  └─────────┘  └─────────────┘ └───────────┘»\n",
      "«q_4: ┤ Ry(1.4564) ├┤ Rx(1.4188) ├────────────────────────────────────────────»\n",
      "«     └────────────┘└────────────┘                                            »\n",
      "«c: 5/════════════════════════════════════════════════════════════════════════»\n",
      "«                                                                             »\n",
      "«      ┌──────────┐┌─────────────┐┌─────────┐ ┌───────────┐┌─────────────┐»\n",
      "«q_0: ─┤ Rx(3π/4) ├┤ Ry(0.15312) ├┤ Rx(π/4) ├─┤0          ├┤ Rx(-2.1966) ├»\n",
      "«     ┌┴──────────┤└─┬─────────┬─┘├─────────┴┐│  Rxx(π/2) │├─────────────┤»\n",
      "«q_1: ┤ Rx(-3π/4) ├──┤ Ry(π/2) ├──┤ Rx(-π/4) ├┤1          ├┤ Rx(-1.9623) ├»\n",
      "«     └┬──────────┤┌─┴─────────┴─┐├─────────┬┘├───────────┤└┬────────────┤»\n",
      "«q_2: ─┤ Rx(3π/4) ├┤ Ry(0.32333) ├┤ Rx(π/4) ├─┤0          ├─┤ Rx(2.8099) ├»\n",
      "«     ┌┴──────────┤└─┬─────────┬─┘├─────────┴┐│  Rxx(π/2) │ └┬──────────┬┘»\n",
      "«q_3: ┤ Rx(-3π/4) ├──┤ Ry(π/2) ├──┤ Rx(-π/4) ├┤1          ├──┤ Rx(3.13) ├─»\n",
      "«     └───────────┘  └─────────┘  └──────────┘└───────────┘  └──────────┘ »\n",
      "«q_4: ────────────────────────────────────────────────────────────────────»\n",
      "«                                                                         »\n",
      "«c: 5/════════════════════════════════════════════════════════════════════»\n",
      "«                                                                         »\n",
      "«      ┌────────────┐┌──────────────┐┌───────┐ ┌────────────┐┌────────────┐»\n",
      "«q_0: ─┤ Ry(2.0189) ├┤ Rx(-0.84836) ├┤ Rz(0) ├─┤ Rx(0.4493) ├┤ Ry(1.7037) ├»\n",
      "«      ├────────────┤└┬────────────┬┘├───────┤ ├───────────┬┘├────────────┤»\n",
      "«q_1: ─┤ Ry(1.2651) ├─┤ Rx(2.5375) ├─┤ Rz(0) ├─┤ Rx(1.676) ├─┤ Ry(1.3556) ├»\n",
      "«      ├────────────┤ ├────────────┤ ├───────┤ └───┬───┬───┘ └────────────┘»\n",
      "«q_2: ─┤ Ry(1.9906) ├─┤ Rx(2.1562) ├─┤ Rz(0) ├─────┤ I ├───────────────────»\n",
      "«     ┌┴────────────┤┌┴────────────┤ ├───────┤┌────┴───┴────┐┌────────────┐»\n",
      "«q_3: ┤ Ry(0.31902) ├┤ Rx(-2.1429) ├─┤ Rz(0) ├┤ Rx(0.97756) ├┤ Ry(2.4839) ├»\n",
      "«     └─────────────┘└─────────────┘ └───────┘└─────────────┘└────────────┘»\n",
      "«q_4: ─────────────────────────────────────────────────────────────────────»\n",
      "«                                                                          »\n",
      "«c: 5/═════════════════════════════════════════════════════════════════════»\n",
      "«                                                                          »\n",
      "«     ┌────────────┐                             ┌───────────┐┌──────────┐»\n",
      "«q_0: ┤ Rx(2.2984) ├─────────────────────────────┤0          ├┤ Rx(-π/4) ├»\n",
      "«     ├────────────┤                ┌───────────┐│           │├──────────┤»\n",
      "«q_1: ┤ Rx(1.3648) ├────────────────┤0          ├┤           ├┤ Rx(-π/4) ├»\n",
      "«     └────┬─┬─────┘                │           ││           │└──────────┘»\n",
      "«q_2: ─────┤M├──────────────────────┤  Rxx(π/2) ├┤  Rxx(π/2) ├────────────»\n",
      "«          └╥┘      ┌──────────────┐│           ││           │┌─────────┐ »\n",
      "«q_3: ──────╫───────┤ Rx(-0.57863) ├┤1          ├┤           ├┤ Rx(π/4) ├─»\n",
      "«           ║       └──────────────┘└───────────┘│           │├─────────┤ »\n",
      "«q_4: ──────╫────────────────────────────────────┤1          ├┤ Rx(π/4) ├─»\n",
      "«           ║                                    └───────────┘└─────────┘ »\n",
      "«c: 5/══════╩═════════════════════════════════════════════════════════════»\n",
      "«           2                                                             »\n",
      "«     ┌─────────────┐  ┌──────────┐              ┌───────────┐ ┌──────────┐»\n",
      "«q_0: ┤ Ry(0.72174) ├──┤ Rx(3π/4) ├──────────────┤0          ├─┤ Rx(-π/4) ├»\n",
      "«     ├─────────────┤  ├──────────┤ ┌───────────┐│           │ ├──────────┤»\n",
      "«q_1: ┤ Ry(0.42025) ├──┤ Rx(3π/4) ├─┤0          ├┤           ├─┤ Rx(3π/4) ├»\n",
      "«     └─────────────┘  └──────────┘ │           ││           │ └──────────┘»\n",
      "«q_2: ──────────────────────────────┤  Rxx(π/2) ├┤  Rxx(π/2) ├─────────────»\n",
      "«       ┌─────────┐  ┌─────────────┐│           ││           │┌───────────┐»\n",
      "«q_3: ──┤ Ry(π/2) ├──┤ Rx(0.72329) ├┤1          ├┤           ├┤ Rx(-3π/4) ├»\n",
      "«       ├─────────┤  ├─────────────┤└───────────┘│           │├───────────┤»\n",
      "«q_4: ──┤ Ry(π/2) ├──┤ Rx(0.26882) ├─────────────┤1          ├┤ Rx(-3π/4) ├»\n",
      "«       └─────────┘  └─────────────┘             └───────────┘└───────────┘»\n",
      "«c: 5/═════════════════════════════════════════════════════════════════════»\n",
      "«                                                                          »\n",
      "«     ┌──────────────┐┌───────────┐             ┌───────────┐ ┌────────────┐»\n",
      "«q_0: ┤ Ry(0.012602) ├┤ Rx(-3π/4) ├─────────────┤0          ├─┤ Rx(2.9178) ├»\n",
      "«     ├─────────────┬┘└┬─────────┬┘┌───────────┐│           │┌┴────────────┤»\n",
      "«q_1: ┤ Ry(0.31912) ├──┤ Rx(π/4) ├─┤0          ├┤           ├┤ Rx(0.99917) ├»\n",
      "«     └─────────────┘  └─────────┘ │           ││           │└─────────────┘»\n",
      "«q_2: ─────────────────────────────┤  Rxx(π/2) ├┤  Rxx(π/2) ├───────────────»\n",
      "«       ┌─────────┐    ┌──────────┐│           ││           │ ┌───────────┐ »\n",
      "«q_3: ──┤ Ry(π/2) ├────┤ Rx(-π/4) ├┤1          ├┤           ├─┤ Rx(2.589) ├─»\n",
      "«       ├─────────┤    ├──────────┤└───────────┘│           │ ├───────────┴┐»\n",
      "«q_4: ──┤ Ry(π/2) ├────┤ Rx(-π/4) ├─────────────┤1          ├─┤ Rx(2.2452) ├»\n",
      "«       └─────────┘    └──────────┘             └───────────┘ └────────────┘»\n",
      "«c: 5/══════════════════════════════════════════════════════════════════════»\n",
      "«                                                                           »\n",
      "«     ┌────────────┐┌─────────────┐ ┌─┐         \n",
      "«q_0: ┤ Ry(2.1433) ├┤ Rx(-2.3871) ├─┤M├─────────\n",
      "«     ├────────────┤├─────────────┴┐└╥┘┌─┐      \n",
      "«q_1: ┤ Ry(1.4622) ├┤ Rx(-0.19969) ├─╫─┤M├──────\n",
      "«     └────────────┘└──────────────┘ ║ └╥┘      \n",
      "«q_2: ───────────────────────────────╫──╫───────\n",
      "«     ┌────────────┐┌─────────────┐  ║  ║ ┌─┐   \n",
      "«q_3: ┤ Ry(1.3514) ├┤ Rx(-1.5769) ├──╫──╫─┤M├───\n",
      "«     ├────────────┤├─────────────┤  ║  ║ └╥┘┌─┐\n",
      "«q_4: ┤ Ry(2.1315) ├┤ Rx(-1.8752) ├──╫──╫──╫─┤M├\n",
      "«     └────────────┘└─────────────┘  ║  ║  ║ └╥┘\n",
      "«c: 5/═══════════════════════════════╩══╩══╩══╩═\n",
      "«                                    0  1  3  4 \n"
     ]
    }
   ],
   "source": [
    "print(qc_noisy)"
   ]
  },
  {
   "cell_type": "code",
   "execution_count": null,
   "metadata": {},
   "outputs": [],
   "source": []
  },
  {
   "cell_type": "code",
   "execution_count": null,
   "metadata": {},
   "outputs": [],
   "source": []
  }
 ],
 "metadata": {
  "kernelspec": {
   "display_name": "base",
   "language": "python",
   "name": "python3"
  },
  "language_info": {
   "codemirror_mode": {
    "name": "ipython",
    "version": 3
   },
   "file_extension": ".py",
   "mimetype": "text/x-python",
   "name": "python",
   "nbconvert_exporter": "python",
   "pygments_lexer": "ipython3",
   "version": "3.12.2"
  }
 },
 "nbformat": 4,
 "nbformat_minor": 2
}
