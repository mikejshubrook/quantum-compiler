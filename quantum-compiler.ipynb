{
 "cells": [
  {
   "cell_type": "markdown",
   "metadata": {},
   "source": [
    "This work was done as part of a three month project in collaboration with the Ion Technology group at the University of Sussex.\n",
    "\n",
    "In this file we are going to describe some basic concepts in quantum compilation, showing how to implement compilation of quantum gates using Qiskit modules, and finally produce a simulated quantum circuit that we have compiled into the native gate set of a trapped ion quantum computer.\n",
    "\n",
    "(I updated the code in 2025 to work on the newer version of Qiskit)"
   ]
  },
  {
   "cell_type": "markdown",
   "metadata": {},
   "source": [
    "# Classical and quantum compilation"
   ]
  },
  {
   "cell_type": "markdown",
   "metadata": {},
   "source": [
    "Explaining things in quantum mechanics (or quantum information theory, or quantum computing) is usually made easier by making analogies to the classical case where possible. For that reason, we will begin by understanding classical compilation.\n",
    "\n",
    "Compilation is the process of taking code written in a high level programming language (e.g. Python, C++, HTML, etc.) and converting it into the machine language that a computer can 'understand'. At its lowest level, machine language are the 'zeros and ones' that we often hear of.\n",
    "\n",
    "Quantum compilation is similar to classical compilation, in that we take a 'high-level' quantum algorithm (which can be expressed as an arbitrary unitary matrix on  qubits) and decompose it into a set of gates that we can actually perform on a quantum computer."
   ]
  },
  {
   "cell_type": "markdown",
   "metadata": {},
   "source": [
    "# Why do we need to compile?"
   ]
  },
  {
   "cell_type": "markdown",
   "metadata": {},
   "source": [
    "By combining unitaries together using tensory products and sequential multiplication, we can express arbitrary quantum algorithms on $n$ qubits as a single unitary opertor in a $2^{n}$ dimensional Hilbert space. If we can express an arbitrary quantum algorithm as a unitary matrix on $n$ qubits, why can't our quantum computers just implement this gate as it is? The answer is that there is no proposed way to implement gates on anything but one or two qubits. Additionally, quantum computers have very large engineering hurdles to overcome in their current state (only implementing single and two qubit gates), so being able to perform gates on multiple qubits is very unlikely to work.\n",
    "\n",
    "Quantum computation can be implemented on different engineering platforms, such as trapped ions, photons or superconducting qubits. Each of these has their own pros and cons, such as coherence time, gate fidelity, and measurement fidelity. They also all have their own native gate sets, which are the set of gates that can actually be performed on them.\n",
    "\n",
    "We can think of the native gate set as the 'machine language' of the quantum computer. So long as the native gate set is a universal set, then we can approximate any unitary, and therefore any quantum algorithm, on this quantum computer. For a native gate set to be universal, we mean that any unitary can be approximated to arbitrary accuracy using chains of gates in the set."
   ]
  },
  {
   "cell_type": "markdown",
   "metadata": {},
   "source": [
    "# What are the different steps of decomposition?\\n\",\n",
    "Say we have a quantum algorithm on $n$ qubits that we want to perform on a quantum computer. We know that this algorithm can be written as a unitary matrix belonging to the group $U \\in SU(2^{n})$. From [1] we know that this unitary can be *exactly* decomposed into a product of so called two-level unitaries. These are unitaries that only act non-trivially on two basis states. We also know that these two level unitaries can in turn be exactly decomposed into products of arbitrary single qubit gates, and a two qubit entangling gate such as the CNOT. Putting these ideas together, we find out that arbitrary quantum algorithms can be exactly decomposed into products of arbitrary single qubit gates, and two qubit entangling gates.\n",
    "\n",
    "So if the native gate set of our quantum computer has access to these gates, we are able to *exactly* execute *any* quantum algorithm on it. Unfortunely, no quantum computing platforms have this capability. By 'arbitrary single qubit gates', what we mean is a rotation on the Bloch sphere, by *any* angle, along *any* axis. The best that quantum computing platforms are able to do is rotations on the Bloch sphere by any angle, along two fixed, perpedicular, axes. Thankfully, though, combinations of such gates allow us to approximate the arbitrary single qubits we require.\n",
    "\n",
    "So as long as our quantum computer has access to two single qubit rotations, of arbitray angle, along two perpendicular axes of the Bloch sphere, and also has access to a two qubit entangling gate, then we can approximate any unitary with it (and therefore execute any quantum algorithm). Such a set of gates is referred to as a universal gate set."
   ]
  },
  {
   "cell_type": "markdown",
   "metadata": {},
   "source": [
    "# Tradeoffs in compilation\n",
    "    \n",
    "We can approximate a unitary that we want to implement by chaining together more and more gates from our native gate set. The more gates we use in our approximation the better it will be. If we want to improve the fidelity of our quantum computer, should we just chain together loads and loads of gates from the native gate set, to approximate the unitaries making up the quantum algorithm as closely as possible? No. That idea ignores the fact that each time we phyiscally implement a gate from the native gate set, there is some error associated with it. For this reason, there will be a trade off in the number of gates we use to approximate the unitary that represents the quantum algorithm we want to implement: more gates means that we get a better approximation, but more gates also means more error is accumulated."
   ]
  },
  {
   "cell_type": "markdown",
   "metadata": {},
   "source": [
    "# How does our simulator work?\n",
    "\n",
    "The main goal of this work is to test the fidelity of decomposition. We cannot perform the random two qubit gates used in our quantum volume calculator on a real quantum computer, but we can approximate them using our native gate set.\n",
    "\n",
    "In this file, we will run two different quantum circuits using the qiskit library. One will run the random two qubit gates as they are, and the other will decompose them into gates that can actually be performed on a trapped ion quantum computer. We will also add noise to this decomposed circuit, to simulate the errors that qubits in real systems pick up (in the form of decoherence, gate errors, and measurement errors). At the end, we run both circuits (ideal and noisy) and then compare the output states from the two. In this way, we can calculate the fidelity of our decomposed circuit, using the Uhlmann's measure of state fidelity [2].\n",
    "\n",
    "We can then decide on a reasonable fidelity, say 95%, and define the quantum volume as $nm$, provided that the fidelity is above 95%.\n",
    "\n",
    "We will see below that there are many trade offs to consider when decomposing circuits. We hope that this file will be interesting for users to play around with, and will also provide a good understanding of quantum gate decomposition. Please see the references at the end of the file for an in depth explanation of the concepts in this file.\n"
   ]
  },
  {
   "cell_type": "markdown",
   "metadata": {},
   "source": [
    "# Imports"
   ]
  },
  {
   "cell_type": "code",
   "execution_count": 17,
   "metadata": {},
   "outputs": [],
   "source": [
    "# Core scientific packages\n",
    "import numpy as np\n",
    "from numpy.polynomial import Polynomial as P\n",
    "\n",
    "# Qiskit visualization\n",
    "from qiskit.visualization import plot_histogram\n",
    "\n",
    "# Qiskit circuit components\n",
    "from qiskit.circuit.library import (\n",
    "    CXGate,  # Controlled-X gate\n",
    "    RXXGate  # RXX rotation gate (used for trapped ion implementation)\n",
    ")\n",
    "\n",
    "# Custom module imports for quantum compilation\n",
    "from fidelity_measures import *  # Fidelity calculation functions\n",
    "from circuit import *           # Circuit creation and manipulation\n",
    "from trapped_ion_noise import * # Trapped ion specific noise models"
   ]
  },
  {
   "cell_type": "markdown",
   "metadata": {},
   "source": [
    "# Define basis gate (two-qubit gate) and Euler basis (to decompose single qubit gates)"
   ]
  },
  {
   "cell_type": "markdown",
   "metadata": {},
   "source": [
    "This is where we decide the specific quantum computing architecture to perform the compilation on. Different architectures have different native gate sets which will be used in the decomposition process.\n",
    "\n",
    "Currently, the code is hard-coded to work with the native gate set of a trapped-ion quantum computer. In order to change this, the rotations within the 'make_circuit' function as well as the 'process_circuit_angles' function within 'circuit.py' need to be changed. Depending on the Euler basis (which is currently XYX), the 'rx' an 'ry' rotations need to be changed. Depending on the two-qubit basis gate (which is currently the RXX gate with a rotation angle of $\\frac{\\pi}{2}$, equivalent to the Molmer Sorensen gate) the 'rxx' gate needs to be changed."
   ]
  },
  {
   "cell_type": "code",
   "execution_count": 18,
   "metadata": {},
   "outputs": [],
   "source": [
    "# basis_gate = MolmerSorensen(np.pi/4)  # basis gate\n",
    "basis_gate = RXXGate(np.pi/2)  # basis gate\n",
    "euler_basis = \"XYX\"  # Euler basis \n"
   ]
  },
  {
   "cell_type": "markdown",
   "metadata": {},
   "source": [
    "# Choose the number of qubits and circuit depth"
   ]
  },
  {
   "cell_type": "code",
   "execution_count": 19,
   "metadata": {},
   "outputs": [],
   "source": [
    "number_of_qubits = 5 #choose number of qubits\n",
    "circuit_depth = 5 #choose depth of circuit"
   ]
  },
  {
   "cell_type": "markdown",
   "metadata": {},
   "source": [
    "# Add errors to gates creating a NoiseModel"
   ]
  },
  {
   "cell_type": "code",
   "execution_count": 20,
   "metadata": {},
   "outputs": [],
   "source": [
    "# The errors that we show hereare specific to a trapped-ion quantum computer. \n",
    "# For users who want to simulate different hardware, a unique NoiseModel should be created.\n",
    "total_noise_model = trapped_ion_noise_model(number_of_qubits, circuit_depth)\n",
    "\n",
    "# turn all the noise off\n",
    "# This should increase the fidelity of the compiled circuit to (close to) 1.\n",
    "# total_noise_model = None"
   ]
  },
  {
   "cell_type": "code",
   "execution_count": 21,
   "metadata": {},
   "outputs": [],
   "source": [
    "# Check what the noise model looks like\n",
    "# print(total_noise_model)"
   ]
  },
  {
   "cell_type": "markdown",
   "metadata": {},
   "source": [
    "# Run the decomposition and simulator"
   ]
  },
  {
   "cell_type": "code",
   "execution_count": 22,
   "metadata": {},
   "outputs": [
    {
     "name": "stdout",
     "output_type": "stream",
     "text": [
      "--- Run 1 of 5 ---\n",
      "Shuffling qubits...\n",
      "Shutting qubits...\n",
      "Pairing qubits and applying two-qubit gates...\n",
      "Two qubit gate between qubits 0 and 3 \n",
      "Two qubit gate between qubits 2 and 1 \n",
      "Identity applied to Qubit 4\n",
      "\n",
      "--- Run 2 of 5 ---\n",
      "Shuffling qubits...\n",
      "Shutting qubits...\n",
      "Pairing qubits and applying two-qubit gates...\n",
      "Two qubit gate between qubits 4 and 3 \n",
      "Two qubit gate between qubits 2 and 1 \n",
      "Identity applied to Qubit 0\n",
      "\n",
      "--- Run 3 of 5 ---\n",
      "Shuffling qubits...\n",
      "Shutting qubits...\n",
      "Pairing qubits and applying two-qubit gates...\n",
      "Two qubit gate between qubits 3 and 0 \n",
      "Two qubit gate between qubits 2 and 1 \n",
      "Identity applied to Qubit 4\n",
      "\n",
      "--- Run 4 of 5 ---\n",
      "Shuffling qubits...\n",
      "Shutting qubits...\n",
      "Pairing qubits and applying two-qubit gates...\n",
      "Two qubit gate between qubits 4 and 3 \n",
      "Two qubit gate between qubits 0 and 1 \n",
      "Identity applied to Qubit 2\n",
      "\n",
      "--- Run 5 of 5 ---\n",
      "Shuffling qubits...\n",
      "Shutting qubits...\n",
      "Pairing qubits and applying two-qubit gates...\n",
      "Two qubit gate between qubits 2 and 3 \n",
      "Two qubit gate between qubits 0 and 1 \n",
      "Identity applied to Qubit 4\n",
      "\n"
     ]
    }
   ],
   "source": [
    "# calculate the quantum circuits\n",
    "qc_exact, qc_decomposed, qc_noisy = run_compiler(number_of_qubits, circuit_depth, basis_gate, euler_basis, total_noise_model)"
   ]
  },
  {
   "cell_type": "code",
   "execution_count": 27,
   "metadata": {},
   "outputs": [
    {
     "data": {
      "image/png": "[encoded data removed]",
      "text/plain": [
       "<Figure size 800x600 with 1 Axes>"
      ]
     },
     "execution_count": 27,
     "metadata": {},
     "output_type": "execute_result"
    }
   ],
   "source": [
    "# Run both circuits, calculate fidelity and plot histograms\n",
    "# The fielity is calculated by comparing the counts of the ideal circuit with the counts of the decomposed and noisy circuits.\n",
    "\n",
    "\n",
    "fid_decomposed, counts_exact, counts_decomp = circuit_fidelity(number_of_qubits, qc_exact, qc_decomposed, None)\n",
    "fid_noisy, counts_exact, counts_noisy = circuit_fidelity(number_of_qubits, qc_exact, qc_noisy, total_noise_model)\n",
    "\n",
    "legend = ['Ideal', 'Decomposed', 'Noisy']\n",
    "\n",
    "\n",
    "plot_histogram([counts_exact, counts_decomp, counts_noisy], figsize=(8,6), legend=legend, color=['crimson','midnightblue', 'forestgreen'],\n",
    "                title=f'Fidelity (decomposition)= {fid_decomposed:.10f} \\n Fidelity (noisy)= {fid_noisy:.10f}')\n"
   ]
  },
  {
   "cell_type": "markdown",
   "metadata": {},
   "source": [
    "# Print the ideal circuit"
   ]
  },
  {
   "cell_type": "code",
   "execution_count": 24,
   "metadata": {},
   "outputs": [
    {
     "name": "stdout",
     "output_type": "stream",
     "text": [
      "     ┌───┐┌──────────┐   ┌───┐       ┌───┐       ┌───┐         ┌──────────┐»\n",
      "q_0: ┤ I ├┤0         ├───┤ I ├───────┤ I ├───────┤ I ├─────────┤1         ├»\n",
      "     ├───┤│          │┌──┴───┴───┐   ├───┤    ┌──┴───┴───┐┌───┐│          │»\n",
      "q_1: ┤ I ├┤          ├┤1         ├───┤ I ├────┤1         ├┤ I ├┤          ├»\n",
      "     ├───┤│  U(0, 3) ││  U(2, 1) │   ├───┤    │  U(2, 1) │├───┤│  U(3, 0) │»\n",
      "q_2: ┤ I ├┤          ├┤0         ├───┤ I ├────┤0         ├┤ I ├┤          ├»\n",
      "     ├───┤│          │└──┬───┬───┘┌──┴───┴───┐└──┬───┬───┘└───┘│          │»\n",
      "q_3: ┤ I ├┤1         ├───┤ I ├────┤1         ├───┤ I ├─────────┤0         ├»\n",
      "     ├───┤└──┬───┬───┘   ├───┤    │  U(4, 3) │   ├───┤    ┌───┐└──┬───┬───┘»\n",
      "q_4: ┤ I ├───┤ I ├───────┤ I ├────┤0         ├───┤ I ├────┤ I ├───┤ I ├────»\n",
      "     └───┘   └───┘       └───┘    └──────────┘   └───┘    └───┘   └───┘    »\n",
      "c: 5/══════════════════════════════════════════════════════════════════════»\n",
      "                                                                           »\n",
      "«        ┌───┐                ┌──────────┐┌───┐┌──────────┐┌─┐         ┌─┐   »\n",
      "«q_0: ───┤ I ├────────────────┤0         ├┤ I ├┤0         ├┤M├─────────┤M├───»\n",
      "«     ┌──┴───┴───┐   ┌───┐    │  U(0, 1) │├───┤│  U(0, 1) │└╥┘┌─┐      └╥┘┌─┐»\n",
      "«q_1: ┤1         ├───┤ I ├────┤1         ├┤ I ├┤1         ├─╫─┤M├───────╫─┤M├»\n",
      "«     │  U(2, 1) │   ├───┤    └──┬───┬───┘├───┤├──────────┤ ║ └╥┘┌─┐    ║ └╥┘»\n",
      "«q_2: ┤0         ├───┤ I ├───────┤ I ├────┤ I ├┤0         ├─╫──╫─┤M├────╫──╫─»\n",
      "«     └──┬───┬───┘┌──┴───┴───┐   ├───┤    └───┘│  U(2, 3) │ ║  ║ └╥┘┌─┐ ║  ║ »\n",
      "«q_3: ───┤ I ├────┤1         ├───┤ I ├─────────┤1         ├─╫──╫──╫─┤M├─╫──╫─»\n",
      "«        └───┘    │  U(4, 3) │   ├───┤    ┌───┐└───┬─┬────┘ ║  ║  ║ └╥┘ ║  ║ »\n",
      "«q_4: ────────────┤0         ├───┤ I ├────┤ I ├────┤M├──────╫──╫──╫──╫──╫──╫─»\n",
      "«                 └──────────┘   └───┘    └───┘    └╥┘      ║  ║  ║  ║  ║  ║ »\n",
      "«c: 5/══════════════════════════════════════════════╩═══════╩══╩══╩══╩══╩══╩═»\n",
      "«                                                   4       0  1  2  3  0  1 »\n",
      "«              \n",
      "«q_0: ─────────\n",
      "«              \n",
      "«q_1: ─────────\n",
      "«     ┌─┐      \n",
      "«q_2: ┤M├──────\n",
      "«     └╥┘┌─┐   \n",
      "«q_3: ─╫─┤M├───\n",
      "«      ║ └╥┘┌─┐\n",
      "«q_4: ─╫──╫─┤M├\n",
      "«      ║  ║ └╥┘\n",
      "«c: 5/═╩══╩══╩═\n",
      "«      2  3  4 \n"
     ]
    }
   ],
   "source": [
    "print(qc_exact)"
   ]
  },
  {
   "cell_type": "markdown",
   "metadata": {},
   "source": [
    "# Print the Noisy/Decomposed Circuit"
   ]
  },
  {
   "cell_type": "code",
   "execution_count": 25,
   "metadata": {},
   "outputs": [
    {
     "name": "stdout",
     "output_type": "stream",
     "text": [
      "     ┌───────┐ ┌─────────────┐ ┌─────────────┐ ┌────────────┐ ┌───────────┐ »\n",
      "q_0: ┤ Rz(0) ├─┤ Rx(0.39925) ├─┤ Ry(0.74806) ├─┤ Rx(2.1401) ├─┤0          ├─»\n",
      "     ├───────┤ └┬────────────┤ └┬────────────┤┌┴────────────┴┐│           │ »\n",
      "q_1: ┤ Rz(0) ├──┤ Rx(1.5188) ├──┤ Ry(2.1004) ├┤ Rx(-0.62151) ├┤           ├─»\n",
      "     ├───────┤  ├────────────┤ ┌┴────────────┤├─────────────┬┘│  Rxx(π/2) │ »\n",
      "q_2: ┤ Rz(0) ├──┤ Rx(1.4765) ├─┤ Ry(0.90847) ├┤ Rx(-2.4477) ├─┤           ├─»\n",
      "     ├───────┤┌─┴────────────┴┐└┬────────────┤├─────────────┤ │           │ »\n",
      "q_3: ┤ Rz(0) ├┤ Rx(-0.063886) ├─┤ Ry(1.3326) ├┤ Rx(0.86721) ├─┤1          ├─»\n",
      "     ├───────┤└───┬───────┬───┘ └─┬───────┬──┘└┬───────────┬┘ ├───────────┴┐»\n",
      "q_4: ┤ Rz(0) ├────┤ Rz(0) ├───────┤ Rz(0) ├────┤ Rx(2.234) ├──┤ Ry(1.3475) ├»\n",
      "     └───────┘    └───────┘       └───────┘    └───────────┘  └────────────┘»\n",
      "c: 5/═══════════════════════════════════════════════════════════════════════»\n",
      "                                                                            »\n",
      "«       ┌──────────┐ ┌─────────────┐  ┌──────────┐              ┌───────────┐»\n",
      "«q_0: ──┤ Rx(-π/4) ├─┤ Ry(0.79531) ├──┤ Rx(3π/4) ├──────────────┤0          ├»\n",
      "«      ┌┴──────────┤ └─┬──────────┬┘ ┌┴──────────┴┐┌───────────┐│           │»\n",
      "«q_1: ─┤1          ├───┤ Rx(-π/4) ├──┤ Ry(1.1649) ├┤ Rx(-3π/4) ├┤           ├»\n",
      "«      │  Rxx(π/2) │   ├──────────┤  ├────────────┤├───────────┤│  Rxx(π/2) │»\n",
      "«q_2: ─┤0          ├───┤ Rx(3π/4) ├──┤ Ry(2.6329) ├┤ Rx(-3π/4) ├┤           ├»\n",
      "«      └┬─────────┬┘   ├─────────┬┘ ┌┴────────────┤└───────────┘│           │»\n",
      "«q_3: ──┤ Rx(π/4) ├────┤ Ry(π/2) ├──┤ Rx(0.78417) ├─────────────┤1          ├»\n",
      "«     ┌─┴─────────┴─┐  └─────────┘  └─────────────┘             └───────────┘»\n",
      "«q_4: ┤ Rx(0.52423) ├────────────────────────────────────────────────────────»\n",
      "«     └─────────────┘                                                        »\n",
      "«c: 5/═══════════════════════════════════════════════════════════════════════»\n",
      "«                                                                            »\n",
      "«      ┌──────────┐┌─────────────┐  ┌─────────┐                  ┌───────────┐»\n",
      "«q_0: ─┤ Rx(3π/4) ├┤ Ry(0.21754) ├──┤ Rx(π/4) ├──────────────────┤0          ├»\n",
      "«     ┌┴──────────┤└┬───────────┬┘ ┌┴─────────┴─┐┌──────────────┐│           │»\n",
      "«q_1: ┤1          ├─┤ Rx(2.243) ├──┤ Ry(0.4785) ├┤ Rx(-0.34715) ├┤           ├»\n",
      "«     │  Rxx(π/2) │┌┴───────────┴─┐├────────────┤├──────────────┤│  Rxx(π/2) │»\n",
      "«q_2: ┤0          ├┤ Rx(-0.27543) ├┤ Ry(1.2467) ├┤ Rx(-0.72344) ├┤           ├»\n",
      "«     ├───────────┤└─┬─────────┬──┘└┬──────────┬┘└──────────────┘│           │»\n",
      "«q_3: ┤ Rx(-3π/4) ├──┤ Ry(π/2) ├────┤ Rx(-π/4) ├─────────────────┤1          ├»\n",
      "«     └───────────┘  └─────────┘    └──────────┘                 └───────────┘»\n",
      "«q_4: ────────────────────────────────────────────────────────────────────────»\n",
      "«                                                                             »\n",
      "«c: 5/════════════════════════════════════════════════════════════════════════»\n",
      "«                                                                             »\n",
      "«     ┌───────────────┐ ┌────────────┐ ┌────────────┐   ┌───────┐   »\n",
      "«q_0: ┤ Rx(-0.079049) ├─┤ Ry(2.0632) ├─┤ Rx(1.7272) ├───┤ Rz(0) ├───»\n",
      "«     └───┬───────┬───┘┌┴────────────┤┌┴────────────┤ ┌─┴───────┴──┐»\n",
      "«q_1: ────┤ Rz(0) ├────┤ Rx(-1.0051) ├┤ Ry(0.56482) ├─┤ Rx(2.9865) ├»\n",
      "«         ├───────┤    ├─────────────┤└┬────────────┤┌┴────────────┤»\n",
      "«q_2: ────┤ Rz(0) ├────┤ Rx(-2.7382) ├─┤ Ry(1.2021) ├┤ Rx(-2.0191) ├»\n",
      "«      ┌──┴───────┴──┐ └┬────────────┤┌┴────────────┤└──┬───────┬──┘»\n",
      "«q_3: ─┤ Rx(-1.9601) ├──┤ Ry(2.0805) ├┤ Rx(0.31789) ├───┤ Rz(0) ├───»\n",
      "«      └─────────────┘  └────────────┘└─────────────┘   └───────┘   »\n",
      "«q_4: ──────────────────────────────────────────────────────────────»\n",
      "«                                                                   »\n",
      "«c: 5/══════════════════════════════════════════════════════════════»\n",
      "«                                                                   »\n",
      "«        ┌───────┐     ┌───────┐   ┌─────────────┐ ┌────────────┐┌────────────┐»\n",
      "«q_0: ───┤ Rz(0) ├─────┤ Rz(0) ├───┤ Rx(-2.7026) ├─┤ Ry(2.8087) ├┤ Rx(2.9019) ├»\n",
      "«      ┌─┴───────┴─┐  ┌┴───────┴┐  └─┬─────────┬─┘┌┴────────────┤├───────────┬┘»\n",
      "«q_1: ─┤1          ├──┤ Rx(π/4) ├────┤ Ry(π/2) ├──┤ Rx(0.44717) ├┤1          ├─»\n",
      "«      │  Rxx(π/2) │  ├─────────┴┐  ┌┴─────────┴─┐└─┬──────────┬┘│  Rxx(π/2) │ »\n",
      "«q_2: ─┤0          ├──┤ Rx(-π/4) ├──┤ Ry(1.0044) ├──┤ Rx(3π/4) ├─┤0          ├─»\n",
      "«     ┌┴───────────┴┐┌┴──────────┴┐┌┴────────────┤ ┌┴──────────┤ └┬─────────┬┘ »\n",
      "«q_3: ┤ Rx(-1.6324) ├┤ Ry(1.5499) ├┤ Rx(-3.0519) ├─┤1          ├──┤ Rx(π/4) ├──»\n",
      "«     └─────────────┘└────────────┘└─────────────┘ │  Rxx(π/2) │  ├─────────┴┐ »\n",
      "«q_4: ─────────────────────────────────────────────┤0          ├──┤ Rx(-π/4) ├─»\n",
      "«                                                  └───────────┘  └──────────┘ »\n",
      "«c: 5/═════════════════════════════════════════════════════════════════════════»\n",
      "«                                                                              »\n",
      "«                                                                            »\n",
      "«q_0: ───────────────────────────────────────────────────────────────────────»\n",
      "«      ┌───────────┐   ┌─────────┐   ┌──────────┐┌───────────┐┌─────────────┐»\n",
      "«q_1: ─┤ Rx(-3π/4) ├───┤ Ry(π/2) ├───┤ Rx(-π/4) ├┤1          ├┤ Rx(-0.6231) ├»\n",
      "«      └┬──────────┤ ┌─┴─────────┴─┐┌┴──────────┤│  Rxx(π/2) │├─────────────┤»\n",
      "«q_2: ──┤ Rx(-π/4) ├─┤ Ry(0.35115) ├┤ Rx(-3π/4) ├┤0          ├┤ Rx(0.70181) ├»\n",
      "«       ├─────────┬┘ ├─────────────┤├───────────┤├───────────┤└─┬─────────┬─┘»\n",
      "«q_3: ──┤ Ry(π/2) ├──┤ Rx(0.65871) ├┤1          ├┤ Rx(-3π/4) ├──┤ Ry(π/2) ├──»\n",
      "«     ┌─┴─────────┴─┐└─┬──────────┬┘│  Rxx(π/2) │└┬──────────┤ ┌┴─────────┴─┐»\n",
      "«q_4: ┤ Ry(0.93295) ├──┤ Rx(3π/4) ├─┤0          ├─┤ Rx(-π/4) ├─┤ Ry(0.1772) ├»\n",
      "«     └─────────────┘  └──────────┘ └───────────┘ └──────────┘ └────────────┘»\n",
      "«c: 5/═══════════════════════════════════════════════════════════════════════»\n",
      "«                                                                            »\n",
      "«                                                                  »\n",
      "«q_0: ─────────────────────────────────────────────────────────────»\n",
      "«     ┌─────────────┐  ┌──────────┐    ┌───────┐    ┌─────────────┐»\n",
      "«q_1: ┤ Ry(0.95476) ├──┤ Rx(1.79) ├────┤ Rz(0) ├────┤ Rx(-2.6455) ├»\n",
      "«     └┬───────────┬┘┌─┴──────────┴┐   ├───────┤    ├─────────────┤»\n",
      "«q_2: ─┤ Ry(1.875) ├─┤ Rx(-1.2648) ├───┤ Rz(0) ├────┤ Rx(-2.2332) ├»\n",
      "«      └┬──────────┤ └┬───────────┬┘┌──┴───────┴───┐└┬────────────┤»\n",
      "«q_3: ──┤ Rx(-π/4) ├──┤1          ├─┤ Rx(-0.20002) ├─┤ Ry(2.8947) ├»\n",
      "«      ┌┴──────────┤  │  Rxx(π/2) │ ├──────────────┤ ├────────────┤»\n",
      "«q_4: ─┤ Rx(-3π/4) ├──┤0          ├─┤ Rx(-0.73971) ├─┤ Ry(1.1611) ├»\n",
      "«      └───────────┘  └───────────┘ └──────────────┘ └────────────┘»\n",
      "«c: 5/═════════════════════════════════════════════════════════════»\n",
      "«                                                                  »\n",
      "«                                                                             »\n",
      "«q_0: ────────────────────────────────────────────────────────────────────────»\n",
      "«      ┌───────────┐ ┌──────────────┐┌───────────┐ ┌─────────┐   ┌─────────┐  »\n",
      "«q_1: ─┤ Ry(2.311) ├─┤ Rx(-0.73662) ├┤1          ├─┤ Rx(π/4) ├───┤ Ry(π/2) ├──»\n",
      "«      ├───────────┴┐└┬────────────┬┘│  Rxx(π/2) │ ├─────────┴┐┌─┴─────────┴─┐»\n",
      "«q_2: ─┤ Ry(1.2213) ├─┤ Rx(1.5667) ├─┤0          ├─┤ Rx(-π/4) ├┤ Ry(0.56631) ├»\n",
      "«     ┌┴────────────┤ └─┬───────┬──┘ ├───────────┴┐├──────────┤└┬────────────┤»\n",
      "«q_3: ┤ Rx(0.97834) ├───┤ Rz(0) ├────┤ Rx(0.7702) ├┤ Ry(1.09) ├─┤ Rx(2.6961) ├»\n",
      "«     └┬────────────┤   ├───────┤    └─┬───────┬──┘└┬───────┬─┘ ├────────────┤»\n",
      "«q_4: ─┤ Rx(1.6944) ├───┤ Rz(0) ├──────┤ Rz(0) ├────┤ Rz(0) ├───┤ Rx(1.7909) ├»\n",
      "«      └────────────┘   └───────┘      └───────┘    └───────┘   └────────────┘»\n",
      "«c: 5/════════════════════════════════════════════════════════════════════════»\n",
      "«                                                                             »\n",
      "«                     ┌───────────┐  ┌─────────┐   ┌─────────┐  »\n",
      "«q_0: ────────────────┤1          ├──┤ Rx(π/4) ├───┤ Ry(π/2) ├──»\n",
      "«     ┌─────────────┐ │           │ ┌┴─────────┴┐ ┌┴─────────┴┐ »\n",
      "«q_1: ┤ Rx(0.46423) ├─┤           ├─┤1          ├─┤ Rx(-3π/4) ├─»\n",
      "«     └─┬──────────┬┘ │  Rxx(π/2) │ │  Rxx(π/2) │ └┬──────────┤ »\n",
      "«q_2: ──┤ Rx(3π/4) ├──┤           ├─┤0          ├──┤ Rx(-π/4) ├─»\n",
      "«       └──────────┘  │           │ └┬──────────┤┌─┴──────────┴┐»\n",
      "«q_3: ────────────────┤0          ├──┤ Rx(-π/4) ├┤ Ry(0.55486) ├»\n",
      "«      ┌────────────┐┌┴───────────┴┐ └──────────┘└─────────────┘»\n",
      "«q_4: ─┤ Ry(1.9026) ├┤ Rx(-2.9618) ├────────────────────────────»\n",
      "«      └────────────┘└─────────────┘                            »\n",
      "«c: 5/══════════════════════════════════════════════════════════»\n",
      "«                                                               »\n",
      "«     ┌─────────────┐              ┌───────────┐┌───────────┐  ┌─────────┐   »\n",
      "«q_0: ┤ Rx(0.22026) ├──────────────┤1          ├┤ Rx(-3π/4) ├──┤ Ry(π/2) ├───»\n",
      "«     └─┬─────────┬─┘  ┌──────────┐│           │├───────────┤┌─┴─────────┴──┐»\n",
      "«q_1: ──┤ Ry(π/2) ├────┤ Rx(-π/4) ├┤           ├┤1          ├┤ Rx(-0.96436) ├»\n",
      "«     ┌─┴─────────┴──┐┌┴──────────┤│  Rxx(π/2) ││  Rxx(π/2) │└┬────────────┬┘»\n",
      "«q_2: ┤ Ry(0.077387) ├┤ Rx(-3π/4) ├┤           ├┤0          ├─┤ Rx(-2.205) ├─»\n",
      "«     └─┬──────────┬─┘└───────────┘│           │└┬──────────┤┌┴────────────┴┐»\n",
      "«q_3: ──┤ Rx(3π/4) ├───────────────┤0          ├─┤ Rx(-π/4) ├┤ Ry(0.037629) ├»\n",
      "«       └──────────┘               └───────────┘ └──────────┘└──────────────┘»\n",
      "«q_4: ───────────────────────────────────────────────────────────────────────»\n",
      "«                                                                            »\n",
      "«c: 5/═══════════════════════════════════════════════════════════════════════»\n",
      "«                                                                            »\n",
      "«      ┌──────────┐                ┌───────────┐┌─────────────┐┌─────────────┐ »\n",
      "«q_0: ─┤ Rx(-π/4) ├────────────────┤1          ├┤ Rx(-2.5408) ├┤ Ry(0.57274) ├─»\n",
      "«     ┌┴──────────┴┐┌─────────────┐│           │└──┬───────┬──┘├─────────────┴┐»\n",
      "«q_1: ┤ Ry(1.4057) ├┤ Rx(-2.5957) ├┤           ├───┤ Rz(0) ├───┤ Rx(-0.43269) ├»\n",
      "«     ├────────────┤├─────────────┤│  Rxx(π/2) │   ├───────┤   └──┬───────┬───┘»\n",
      "«q_2: ┤ Ry(2.5985) ├┤ Rx(0.96568) ├┤           ├───┤ Rz(0) ├──────┤ Rz(0) ├────»\n",
      "«     ├───────────┬┘└─────────────┘│           │ ┌─┴───────┴──┐┌──┴───────┴──┐ »\n",
      "«q_3: ┤ Rx(-3π/4) ├────────────────┤0          ├─┤ Rx(1.3633) ├┤ Ry(0.72063) ├─»\n",
      "«     └───────────┘                └───────────┘ └────────────┘└─────────────┘ »\n",
      "«q_4: ─────────────────────────────────────────────────────────────────────────»\n",
      "«                                                                              »\n",
      "«c: 5/═════════════════════════════════════════════════════════════════════════»\n",
      "«                                                                              »\n",
      "«      ┌────────────┐    ┌───────┐   ┌────────────┐ ┌────────────┐»\n",
      "«q_0: ─┤ Rx(2.2339) ├────┤ Rz(0) ├───┤ Rx(1.2403) ├─┤ Ry(1.3237) ├»\n",
      "«      ├────────────┤ ┌──┴───────┴──┐└────────────┘ └────────────┘»\n",
      "«q_1: ─┤ Ry(3.0496) ├─┤ Rx(-1.1268) ├─────────────────────────────»\n",
      "«      └─┬───────┬──┘ ├─────────────┤┌────────────┐┌─────────────┐»\n",
      "«q_2: ───┤ Rz(0) ├────┤ Rx(0.31583) ├┤ Ry(1.1424) ├┤ Rx(-2.9144) ├»\n",
      "«     ┌──┴───────┴───┐└──┬───────┬──┘├────────────┤└┬────────────┤»\n",
      "«q_3: ┤ Rx(-0.80762) ├───┤ Rz(0) ├───┤ Rx(2.7412) ├─┤ Ry(1.6108) ├»\n",
      "«     └──────────────┘   └───────┘   └────────────┘ └────────────┘»\n",
      "«q_4: ────────────────────────────────────────────────────────────»\n",
      "«                                                                 »\n",
      "«c: 5/════════════════════════════════════════════════════════════»\n",
      "«                                                                 »\n",
      "«     ┌─────────────┐┌───────────┐┌──────────┐┌─────────────┐  ┌──────────┐ »\n",
      "«q_0: ┤ Rx(-1.2669) ├┤0          ├┤ Rx(-π/4) ├┤ Ry(0.69277) ├──┤ Rx(3π/4) ├─»\n",
      "«     └─────────────┘│  Rxx(π/2) │├─────────┬┘└─┬─────────┬─┘┌─┴──────────┴┐»\n",
      "«q_1: ───────────────┤1          ├┤ Rx(π/4) ├───┤ Ry(π/2) ├──┤ Rx(0.13396) ├»\n",
      "«                    └───────────┘└─────────┘   └─────────┘  └─────────────┘»\n",
      "«q_2: ──────────────────────────────────────────────────────────────────────»\n",
      "«     ┌─────────────┐┌───────────┐┌─────────┐   ┌─────────┐  ┌─────────────┐»\n",
      "«q_3: ┤ Rx(-1.7551) ├┤1          ├┤ Rx(π/4) ├───┤ Ry(π/2) ├──┤ Rx(0.53635) ├»\n",
      "«     └─────────────┘│  Rxx(π/2) │├─────────┴┐┌─┴─────────┴─┐└─┬──────────┬┘»\n",
      "«q_4: ───────────────┤0          ├┤ Rx(-π/4) ├┤ Ry(0.56081) ├──┤ Rx(3π/4) ├─»\n",
      "«                    └───────────┘└──────────┘└─────────────┘  └──────────┘ »\n",
      "«c: 5/══════════════════════════════════════════════════════════════════════»\n",
      "«                                                                           »\n",
      "«     ┌───────────┐ ┌──────────┐┌─────────────┐ ┌───────────┐┌───────────┐»\n",
      "«q_0: ┤0          ├─┤ Rx(-π/4) ├┤ Ry(0.34841) ├─┤ Rx(-3π/4) ├┤0          ├»\n",
      "«     │  Rxx(π/2) │┌┴──────────┤└─┬─────────┬─┘ └┬──────────┤│  Rxx(π/2) │»\n",
      "«q_1: ┤1          ├┤ Rx(-3π/4) ├──┤ Ry(π/2) ├────┤ Rx(-π/4) ├┤1          ├»\n",
      "«     └───────────┘└───────────┘  └─────────┘    └──────────┘└───────────┘»\n",
      "«q_2: ────────────────────────────────────────────────────────────────────»\n",
      "«     ┌───────────┐┌───────────┐  ┌─────────┐    ┌──────────┐┌───────────┐»\n",
      "«q_3: ┤1          ├┤ Rx(-3π/4) ├──┤ Ry(π/2) ├────┤ Rx(-π/4) ├┤1          ├»\n",
      "«     │  Rxx(π/2) │└┬──────────┤┌─┴─────────┴──┐ ├─────────┬┘│  Rxx(π/2) │»\n",
      "«q_4: ┤0          ├─┤ Rx(3π/4) ├┤ Ry(0.088508) ├─┤ Rx(π/4) ├─┤0          ├»\n",
      "«     └───────────┘ └──────────┘└──────────────┘ └─────────┘ └───────────┘»\n",
      "«c: 5/════════════════════════════════════════════════════════════════════»\n",
      "«                                                                         »\n",
      "«     ┌─────────────┐┌────────────┐ ┌────────────┐┌───────┐ ┌────────────┐»\n",
      "«q_0: ┤ Rx(-1.2246) ├┤ Ry(2.7497) ├─┤ Rx(2.7185) ├┤ Rz(0) ├─┤ Rx(-2.182) ├»\n",
      "«     └┬────────────┤├────────────┤ ├────────────┤├───────┤┌┴────────────┤»\n",
      "«q_1: ─┤ Rx(1.3799) ├┤ Ry(1.1851) ├─┤ Rx(2.6667) ├┤ Rz(0) ├┤ Rx(0.75277) ├»\n",
      "«      └────────────┘└────────────┘ └────────────┘└───────┘└─────────────┘»\n",
      "«q_2: ────────────────────────────────────────────────────────────────────»\n",
      "«      ┌────────────┐┌────────────┐┌─────────────┐┌───────┐┌─────────────┐»\n",
      "«q_3: ─┤ Rx(2.0851) ├┤ Ry(1.5455) ├┤ Rx(-1.2119) ├┤ Rz(0) ├┤ Rx(-2.1279) ├»\n",
      "«      ├────────────┤├───────────┬┘├─────────────┤├───────┤└──┬───────┬──┘»\n",
      "«q_4: ─┤ Rx(2.6134) ├┤ Ry(1.757) ├─┤ Rx(-1.8119) ├┤ Rz(0) ├───┤ Rz(0) ├───»\n",
      "«      └────────────┘└───────────┘ └─────────────┘└───────┘   └───────┘   »\n",
      "«c: 5/════════════════════════════════════════════════════════════════════»\n",
      "«                                                                         »\n",
      "«     ┌────────────┐┌──────────────┐┌───────────┐┌──────────┐┌─────────────┐»\n",
      "«q_0: ┤ Ry(2.5144) ├┤ Rx(-0.54963) ├┤0          ├┤ Rx(-π/4) ├┤ Ry(0.85115) ├»\n",
      "«     ├────────────┤├─────────────┬┘│  Rxx(π/2) │├─────────┬┘└─┬─────────┬─┘»\n",
      "«q_1: ┤ Ry(2.6556) ├┤ Rx(-1.5382) ├─┤1          ├┤ Rx(π/4) ├───┤ Ry(π/2) ├──»\n",
      "«     └────────────┘└─────────────┘ ├───────────┤├─────────┴┐┌─┴─────────┴─┐»\n",
      "«q_2: ──────────────────────────────┤0          ├┤ Rx(-π/4) ├┤ Ry(0.54078) ├»\n",
      "«     ┌────────────┐ ┌────────────┐ │  Rxx(π/2) │├─────────┬┘└─┬─────────┬─┘»\n",
      "«q_3: ┤ Ry(2.2305) ├─┤ Rx(1.0152) ├─┤1          ├┤ Rx(π/4) ├───┤ Ry(π/2) ├──»\n",
      "«     └────┬─┬─────┘ └────────────┘ └───────────┘└─────────┘   └─────────┘  »\n",
      "«q_4: ─────┤M├──────────────────────────────────────────────────────────────»\n",
      "«          └╥┘                                                              »\n",
      "«c: 5/══════╩═══════════════════════════════════════════════════════════════»\n",
      "«           4                                                               »\n",
      "«       ┌──────────┐ ┌───────────┐ ┌──────────┐┌─────────────┐ ┌─────────┐ »\n",
      "«q_0: ──┤ Rx(3π/4) ├─┤0          ├─┤ Rx(3π/4) ├┤ Ry(0.35851) ├─┤ Rx(π/4) ├─»\n",
      "«     ┌─┴──────────┴┐│  Rxx(π/2) │┌┴──────────┤└─┬─────────┬─┘ ├─────────┴┐»\n",
      "«q_1: ┤ Rx(0.74057) ├┤1          ├┤ Rx(-3π/4) ├──┤ Ry(π/2) ├───┤ Rx(-π/4) ├»\n",
      "«     └─┬──────────┬┘├───────────┤└┬──────────┤┌─┴─────────┴─┐┌┴──────────┤»\n",
      "«q_2: ──┤ Rx(3π/4) ├─┤0          ├─┤ Rx(-π/4) ├┤ Ry(0.45149) ├┤ Rx(-3π/4) ├»\n",
      "«      ┌┴──────────┴┐│  Rxx(π/2) │┌┴──────────┤└─┬─────────┬─┘└┬──────────┤»\n",
      "«q_3: ─┤ Rx(0.3055) ├┤1          ├┤ Rx(-3π/4) ├──┤ Ry(π/2) ├───┤ Rx(-π/4) ├»\n",
      "«      └────────────┘└───────────┘└───────────┘  └─────────┘   └──────────┘»\n",
      "«q_4: ─────────────────────────────────────────────────────────────────────»\n",
      "«                                                                          »\n",
      "«c: 5/═════════════════════════════════════════════════════════════════════»\n",
      "«                                                                          »\n",
      "«     ┌───────────┐┌──────────────┐┌─────────────┐┌─────────────┐┌─┐         \n",
      "«q_0: ┤0          ├┤ Rx(-0.48451) ├┤ Ry(0.38684) ├┤ Rx(-1.0097) ├┤M├─────────\n",
      "«     │  Rxx(π/2) │├─────────────┬┘└┬────────────┤├─────────────┤└╥┘┌─┐      \n",
      "«q_1: ┤1          ├┤ Rx(-1.1388) ├──┤ Ry(1.2737) ├┤ Rx(-2.3685) ├─╫─┤M├──────\n",
      "«     ├───────────┤└┬────────────┤  ├────────────┤└┬───────────┬┘ ║ └╥┘┌─┐   \n",
      "«q_2: ┤0          ├─┤ Rx(3.1226) ├──┤ Ry(1.1154) ├─┤ Rx(2.387) ├──╫──╫─┤M├───\n",
      "«     │  Rxx(π/2) │ ├────────────┤  ├────────────┤┌┴───────────┴┐ ║  ║ └╥┘┌─┐\n",
      "«q_3: ┤1          ├─┤ Rx(-1.383) ├──┤ Ry(1.4427) ├┤ Rx(-2.7258) ├─╫──╫──╫─┤M├\n",
      "«     └───────────┘ └────────────┘  └────────────┘└─────────────┘ ║  ║  ║ └╥┘\n",
      "«q_4: ────────────────────────────────────────────────────────────╫──╫──╫──╫─\n",
      "«                                                                 ║  ║  ║  ║ \n",
      "«c: 5/════════════════════════════════════════════════════════════╩══╩══╩══╩═\n",
      "«                                                                 0  1  2  3 \n"
     ]
    }
   ],
   "source": [
    "print(qc_decomposed)"
   ]
  },
  {
   "cell_type": "code",
   "execution_count": null,
   "metadata": {},
   "outputs": [],
   "source": []
  },
  {
   "cell_type": "code",
   "execution_count": null,
   "metadata": {},
   "outputs": [],
   "source": []
  }
 ],
 "metadata": {
  "kernelspec": {
   "display_name": "base",
   "language": "python",
   "name": "python3"
  },
  "language_info": {
   "codemirror_mode": {
    "name": "ipython",
    "version": 3
   },
   "file_extension": ".py",
   "mimetype": "text/x-python",
   "name": "python",
   "nbconvert_exporter": "python",
   "pygments_lexer": "ipython3",
   "version": "3.12.2"
  }
 },
 "nbformat": 4,
 "nbformat_minor": 2
}
