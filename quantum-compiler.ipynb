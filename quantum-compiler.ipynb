{
 "cells": [
  {
   "cell_type": "markdown",
   "metadata": {},
   "source": [
    "This work was done as part of a three month project in collaboration with the Ion Technology group at the University of Sussex.\n",
    "\n",
    "In this file we are going to describe some basic concepts in quantum compilation, showing how to implement compilation of quantum gates using Qiskit modules, and finally produce a simulated quantum circuit that we have compiled into the native gate set of a trapped ion quantum computer.\n",
    "\n",
    "(I updated the code in 2025 to work on the newer version of Qiskit)"
   ]
  },
  {
   "cell_type": "markdown",
   "metadata": {},
   "source": [
    "# Classical and quantum compilation"
   ]
  },
  {
   "cell_type": "markdown",
   "metadata": {},
   "source": [
    "Explaining things in quantum mechanics (or quantum information theory, or quantum computing) is usually made easier by making analogies to the classical case where possible. For that reason, we will begin by understanding classical compilation.\n",
    "\n",
    "Compilation is the process of taking code written in a high level programming language (e.g. Python, C++, HTML, etc.) and converting it into the machine language that a computer can 'understand'. At its lowest level, machine language are the 'zeros and ones' that we often hear of.\n",
    "\n",
    "Quantum compilation is similar to classical compilation, in that we take a 'high-level' quantum algorithm (which can be expressed as an arbitrary unitary matrix on  qubits) and decompose it into a set of gates that we can actually perform on a quantum computer."
   ]
  },
  {
   "cell_type": "markdown",
   "metadata": {},
   "source": [
    "# Why do we need to compile?"
   ]
  },
  {
   "cell_type": "markdown",
   "metadata": {},
   "source": [
    "By combining unitaries together using tensory products and sequential multiplication, we can express arbitrary quantum algorithms on $n$ qubits as a single unitary opertor in a $2^{n}$ dimensional Hilbert space. If we can express an arbitrary quantum algorithm as a unitary matrix on $n$ qubits, why can't our quantum computers just implement this gate as it is? The answer is that there is no proposed way to implement gates on anything but one or two qubits. Additionally, quantum computers have very large engineering hurdles to overcome in their current state (only implementing single and two qubit gates), so being able to perform gates on multiple qubits is very unlikely to work.\n",
    "\n",
    "Quantum computation can be implemented on different engineering platforms, such as trapped ions, photons or superconducting qubits. Each of these has their own pros and cons, such as coherence time, gate fidelity, and measurement fidelity. They also all have their own native gate sets, which are the set of gates that can actually be performed on them.\n",
    "\n",
    "We can think of the native gate set as the 'machine language' of the quantum computer. So long as the native gate set is a universal set, then we can approximate any unitary, and therefore any quantum algorithm, on this quantum computer. For a native gate set to be universal, we mean that any unitary can be approximated to arbitrary accuracy using chains of gates in the set."
   ]
  },
  {
   "cell_type": "markdown",
   "metadata": {},
   "source": [
    "# What are the different steps of decomposition?\\n\",\n",
    "Say we have a quantum algorithm on $n$ qubits that we want to perform on a quantum computer. We know that this algorithm can be written as a unitary matrix belonging to the group $U \\in SU(2^{n})$. From [1] we know that this unitary can be *exactly* decomposed into a product of so called two-level unitaries. These are unitaries that only act non-trivially on two basis states. We also know that these two level unitaries can in turn be exactly decomposed into products of arbitrary single qubit gates, and a two qubit entangling gate such as the CNOT. Putting these ideas together, we find out that arbitrary quantum algorithms can be exactly decomposed into products of arbitrary single qubit gates, and two qubit entangling gates.\n",
    "\n",
    "So if the native gate set of our quantum computer has access to these gates, we are able to *exactly* execute *any* quantum algorithm on it. Unfortunely, no quantum computing platforms have this capability. By 'arbitrary single qubit gates', what we mean is a rotation on the Bloch sphere, by *any* angle, along *any* axis. The best that quantum computing platforms are able to do is rotations on the Bloch sphere by any angle, along two fixed, perpedicular, axes. Thankfully, though, combinations of such gates allow us to approximate the arbitrary single qubits we require.\n",
    "\n",
    "So as long as our quantum computer has access to two single qubit rotations, of arbitray angle, along two perpendicular axes of the Bloch sphere, and also has access to a two qubit entangling gate, then we can approximate any unitary with it (and therefore execute any quantum algorithm). Such a set of gates is referred to as a universal gate set."
   ]
  },
  {
   "cell_type": "markdown",
   "metadata": {},
   "source": [
    "# Tradeoffs in compilation\n",
    "    \n",
    "We can approximate a unitary that we want to implement by chaining together more and more gates from our native gate set. The more gates we use in our approximation the better it will be. If we want to improve the fidelity of our quantum computer, should we just chain together loads and loads of gates from the native gate set, to approximate the unitaries making up the quantum algorithm as closely as possible? No. That idea ignores the fact that each time we phyiscally implement a gate from the native gate set, there is some error associated with it. For this reason, there will be a trade off in the number of gates we use to approximate the unitary that represents the quantum algorithm we want to implement: more gates means that we get a better approximation, but more gates also means more error is accumulated."
   ]
  },
  {
   "cell_type": "markdown",
   "metadata": {},
   "source": [
    "# How does our simulator work?\n",
    "\n",
    "The main goal of this work is to test the fidelity of decomposition. We cannot perform the random two qubit gates used in our quantum volume calculator on a real quantum computer, but we can approximate them using our native gate set.\n",
    "\n",
    "In this file, we will run two different quantum circuits using the qiskit library. One will run the random two qubit gates as they are, and the other will decompose them into gates that can actually be performed on a trapped ion quantum computer. We will also add noise to this decomposed circuit, to simulate the errors that qubits in real systems pick up (in the form of decoherence, gate errors, and measurement errors). At the end, we run both circuits (ideal and noisy) and then compare the output states from the two. In this way, we can calculate the fidelity of our decomposed circuit, using the Uhlmann's measure of state fidelity [2].\n",
    "\n",
    "We can then decide on a reasonable fidelity, say 95%, and define the quantum volume as $nm$, provided that the fidelity is above 95%.\n",
    "\n",
    "We will see below that there are many trade offs to consider when decomposing circuits. We hope that this file will be interesting for users to play around with, and will also provide a good understanding of quantum gate decomposition. Please see the references at the end of the file for an in depth explanation of the concepts in this file.\n"
   ]
  },
  {
   "cell_type": "markdown",
   "metadata": {},
   "source": [
    "# Imports"
   ]
  },
  {
   "cell_type": "code",
   "execution_count": 1,
   "metadata": {},
   "outputs": [],
   "source": [
    "# import regular python packages\n",
    "import numpy as np\n",
    "from numpy.polynomial import Polynomial as P\n",
    "import random\n"
   ]
  },
  {
   "cell_type": "code",
   "execution_count": 2,
   "metadata": {},
   "outputs": [],
   "source": [
    "# visualisation\n",
    "from qiskit.visualization import plot_histogram\n",
    "# Import from Qiskit Aer noise module\n",
    "from qiskit_aer.noise import NoiseModel, pauli_error, depolarizing_error, reset_error, thermal_relaxation_error\n",
    "# Operators\n",
    "from qiskit.quantum_info import random_unitary\n",
    "\n"
   ]
  },
  {
   "cell_type": "code",
   "execution_count": 3,
   "metadata": {},
   "outputs": [],
   "source": [
    "# import other functions for the compiler\n",
    "from fidelity_measures import *\n",
    "from circuit import *\n",
    "from trapped_ion_noise import *\n",
    "from qiskit.circuit.library import CXGate, RXXGate\n"
   ]
  },
  {
   "cell_type": "markdown",
   "metadata": {},
   "source": [
    "# Define basis gate (two-qubit gate) and Euler basis (to decompose single qubit gates)"
   ]
  },
  {
   "cell_type": "markdown",
   "metadata": {},
   "source": [
    "This is where we decide the specific quantum computing architecture to perform the compilation on. Different architectures have different native gate sets which will be used in the decomposition process.\n",
    "\n",
    "Currently, the code is hard-coded to work with the native gate set of a trapped-ion quantum computer. In order to change this, the rotations within the 'make_circuit' function as well as the 'process_circuit_angles' function within 'circuit.py' need to be changed. Depending on the Euler basis (which is currently XYX), the 'rx' an 'ry' rotations need to be changed. Depending on the two-qubit basis gate (which is currently the RXX gate with a rotation angle of $\\frac{\\pi}{2}$, equivalent to the Molmer Sorensen gate) the 'rxx' gate needs to be changed."
   ]
  },
  {
   "cell_type": "code",
   "execution_count": 4,
   "metadata": {},
   "outputs": [],
   "source": [
    "# basis_gate = MolmerSorensen(np.pi/4)  # basis gate\n",
    "basis_gate = RXXGate(np.pi/2)  # basis gate\n",
    "euler_basis = \"XYX\"  # Euler basis \n"
   ]
  },
  {
   "cell_type": "markdown",
   "metadata": {},
   "source": [
    "# Choose the number of qubits and circuit depth"
   ]
  },
  {
   "cell_type": "code",
   "execution_count": 5,
   "metadata": {},
   "outputs": [],
   "source": [
    "number_of_qubits = 2 #choose number of qubits\n",
    "circuit_depth = 1 #choose depth of circuit"
   ]
  },
  {
   "cell_type": "markdown",
   "metadata": {},
   "source": [
    "# Add errors to gates creating a NoiseModel"
   ]
  },
  {
   "cell_type": "code",
   "execution_count": 6,
   "metadata": {},
   "outputs": [],
   "source": [
    "# The errors that we show hereare specific to a trapped-ion quantum computer. \n",
    "# For users who want to simulate different hardware, a unique NoiseModel should be created.\n",
    "# total_noise_model = trapped_ion_noise_model(number_of_qubits, circuit_depth)\n",
    "\n",
    "# turn all the noise off\n",
    "# This should increase the fidelity of the compiled circuit to (close to) 1.\n",
    "total_noise_model = None"
   ]
  },
  {
   "cell_type": "code",
   "execution_count": 7,
   "metadata": {},
   "outputs": [
    {
     "name": "stdout",
     "output_type": "stream",
     "text": [
      "None\n"
     ]
    }
   ],
   "source": [
    "print(total_noise_model)"
   ]
  },
  {
   "cell_type": "markdown",
   "metadata": {},
   "source": [
    "# Run the decomposition and simulator"
   ]
  },
  {
   "cell_type": "code",
   "execution_count": 8,
   "metadata": {},
   "outputs": [],
   "source": [
    "\n",
    "def compile(target, basis_gate, euler_basis, circuit, n, m, noise_model=None):\n",
    "     # find the optimal decomposition for the target unitary, in terms of basis gates and SWAP         \n",
    "    optimal_basis_count, optimal_angles = optimal_basis_gate_number(target, basis_gate, euler_basis, noise_model)\n",
    "    circuit = make_circuit(optimal_angles, optimal_basis_count, circuit, n, m)\n",
    "    return circuit"
   ]
  },
  {
   "cell_type": "code",
   "execution_count": 9,
   "metadata": {},
   "outputs": [
    {
     "name": "stdout",
     "output_type": "stream",
     "text": [
      "--- Run 1 of 1 ---\n",
      "Shuffling qubits...\n",
      "Two qubit gate between qubits 0 and 1 \n"
     ]
    }
   ],
   "source": [
    "# TODO:\n",
    "# make this section below into a function\n",
    "# make it possible to test the same circuit with and without noise so that we can see\n",
    "# the effect of noise on the fidelity of the compiled circuit\n",
    "\n",
    "#create ideal quantum circuit (no decomposition, no noise)\n",
    "qc_exact = QuantumCircuit(number_of_qubits,number_of_qubits)\n",
    "\n",
    "#create decomposed quantum circuit (decomposition and no noise)\n",
    "qc_decomposed = QuantumCircuit(number_of_qubits,number_of_qubits)\n",
    "\n",
    "#create noisy quantum circuit (decomposition and noise)\n",
    "qc_noisy = QuantumCircuit(number_of_qubits,number_of_qubits)\n",
    "\n",
    "# list of qubit labels\n",
    "qb_label = np.arange(0, number_of_qubits).tolist() \n",
    "\n",
    "#loop through depth of circuit\n",
    "for d in range(circuit_depth):\n",
    "    print(f'--- Run {d+1} of {circuit_depth} ---')\n",
    "    # shuffle the qubit labels to pair them randomly\n",
    "    #create random list of ints from 1 to n to use in pairing qubits randomly\n",
    "    random.shuffle(qb_label)\n",
    "    print(f'Shuffling qubits...')\n",
    "\n",
    "    for m in np.arange(0,number_of_qubits): \n",
    "        # loop through all qubits in exact (noisy) circuit and add an identity (rz(0)) for shuttling\n",
    "        # this assumes that there is shuttling inbetween each layer of depth to get qubits next to each other in order to perform two qubit gates\n",
    "        qc_exact.id(m) # shuttle each qubit in the ideal circuit\n",
    "        qc_decomposed.rz(0, m) # shuttle each qubit in the decomposed circuit\n",
    "        qc_noisy.rz(0, m) # shuttle each qubit in the noisy circuit\n",
    " \n",
    "    for n in np.arange(0,number_of_qubits,2):\n",
    "\n",
    "        # if there are an odd number of qubits, add an identity to the last one then...\n",
    "        # this will add some decoherence to this qubit (in the noisy circuit) while it is not being used\n",
    "        if len(qb_label) % 2 == 1 and n == number_of_qubits-1:\n",
    "            print(f'Identity applied to Qubit {qb_label[n]}\\n')\n",
    "            qc_exact.id(qb_label[n])\n",
    "            qc_decomposed.id(qb_label[n])\n",
    "            qc_noisy.id(qb_label[n])\n",
    "\n",
    "        # pair qubits together and create a random two-qubit gates between them\n",
    "        else:\n",
    "            \n",
    "            #for each (random) pair of qubits create a random two qubit gate\n",
    "            target_unitary = Operator(random_unitary(4))\n",
    "\n",
    "            # add the target unitary to the ideal circuit\n",
    "            qc_exact.unitary(target_unitary, [qb_label[n], qb_label[n+1]], label=f'U{qb_label[n], qb_label[n+1]}')\n",
    "            print(f'Two qubit gate between qubits {qb_label[n]} and {qb_label[n+1]} ')\n",
    "\n",
    "            # TODO here we want to be able to test the decomposed circuit both with and without noise\n",
    "            qc_decomposed = compile(target_unitary, basis_gate, euler_basis, qc_decomposed, qb_label[n], qb_label[n+1], noise_model=None)\n",
    "            qc_noisy = compile(target_unitary, basis_gate, euler_basis, qc_noisy, qb_label[n], qb_label[n+1], noise_model=total_noise_model)\n",
    "           "
   ]
  },
  {
   "cell_type": "code",
   "execution_count": 10,
   "metadata": {},
   "outputs": [
    {
     "data": {
      "image/png": "[encoded data removed]",
      "text/plain": [
       "<Figure size 600x400 with 1 Axes>"
      ]
     },
     "execution_count": 10,
     "metadata": {},
     "output_type": "execute_result"
    }
   ],
   "source": [
    "# run both circuits, calculate fidelity and plot histograms\n",
    "fid_decomposed, counts_exact, counts_decomp = circuit_fidelity(number_of_qubits, qc_exact, qc_decomposed, None)\n",
    "fid_noisy, counts_exact, counts_noisy = circuit_fidelity(number_of_qubits, qc_exact, qc_noisy, total_noise_model)\n",
    "\n",
    "legend = ['Ideal', 'Decomposed', 'Noisy']\n",
    "\n",
    "plot_histogram([counts_exact, counts_decomp, counts_noisy], figsize=(6,4), legend=legend, color=['crimson','midnightblue', 'forestgreen'],\n",
    "                title=f'Fidelity (decomposition)= {fid_decomposed:.10f} \\n Fidelity (noisy)= {fid_noisy:.10f}',)\n"
   ]
  },
  {
   "cell_type": "markdown",
   "metadata": {},
   "source": [
    "# Print the ideal circuit"
   ]
  },
  {
   "cell_type": "code",
   "execution_count": 11,
   "metadata": {},
   "outputs": [
    {
     "name": "stdout",
     "output_type": "stream",
     "text": [
      "     ┌───┐┌──────────┐┌─┐   ┌─┐   \n",
      "q_0: ┤ I ├┤0         ├┤M├───┤M├───\n",
      "     ├───┤│  U(0, 1) │└╥┘┌─┐└╥┘┌─┐\n",
      "q_1: ┤ I ├┤1         ├─╫─┤M├─╫─┤M├\n",
      "     └───┘└──────────┘ ║ └╥┘ ║ └╥┘\n",
      "c: 2/══════════════════╩══╩══╩══╩═\n",
      "                       0  1  0  1 \n"
     ]
    }
   ],
   "source": [
    "print(qc_exact)"
   ]
  },
  {
   "cell_type": "markdown",
   "metadata": {},
   "source": [
    "# Print the Noisy/Decomposed Circuit"
   ]
  },
  {
   "cell_type": "code",
   "execution_count": 12,
   "metadata": {},
   "outputs": [
    {
     "name": "stdout",
     "output_type": "stream",
     "text": [
      "     ┌───────┐┌─────────────┐┌────────────┐ ┌────────────┐┌───────────┐»\n",
      "q_0: ┤ Rz(0) ├┤ Rx(0.17335) ├┤ Ry(2.6004) ├─┤ Rx(2.0278) ├┤0          ├»\n",
      "     ├───────┤└┬────────────┤├────────────┤┌┴────────────┤│  Rxx(π/2) │»\n",
      "q_1: ┤ Rz(0) ├─┤ Rx(2.8656) ├┤ Ry(2.6884) ├┤ Rx(-1.2404) ├┤1          ├»\n",
      "     └───────┘ └────────────┘└────────────┘└─────────────┘└───────────┘»\n",
      "c: 2/══════════════════════════════════════════════════════════════════»\n",
      "                                                                       »\n",
      "«     ┌──────────┐┌────────────┐┌───────────┐┌───────────┐┌────────────┐»\n",
      "«q_0: ┤ Rx(3π/4) ├┤ Ry(2.2745) ├┤ Rx(-3π/4) ├┤0          ├┤ Rx(1.8913) ├»\n",
      "«     ├──────────┤├────────────┤├───────────┤│  Rxx(π/2) │├────────────┤»\n",
      "«q_1: ┤ Rx(-π/4) ├┤ Ry(1.1034) ├┤ Rx(-3π/4) ├┤1          ├┤ Rx(1.2113) ├»\n",
      "«     └──────────┘└────────────┘└───────────┘└───────────┘└────────────┘»\n",
      "«c: 2/══════════════════════════════════════════════════════════════════»\n",
      "«                                                                       »\n",
      "«      ┌────────────┐┌─────────────┐┌─┐   \n",
      "«q_0: ─┤ Ry(2.3781) ├┤ Rx(-2.0076) ├┤M├───\n",
      "«     ┌┴────────────┤└┬────────────┤└╥┘┌─┐\n",
      "«q_1: ┤ Ry(0.41654) ├─┤ Rx(1.3644) ├─╫─┤M├\n",
      "«     └─────────────┘ └────────────┘ ║ └╥┘\n",
      "«c: 2/═══════════════════════════════╩══╩═\n",
      "«                                    0  1 \n"
     ]
    }
   ],
   "source": [
    "print(qc_noisy)"
   ]
  },
  {
   "cell_type": "code",
   "execution_count": null,
   "metadata": {},
   "outputs": [],
   "source": []
  },
  {
   "cell_type": "code",
   "execution_count": null,
   "metadata": {},
   "outputs": [],
   "source": []
  }
 ],
 "metadata": {
  "kernelspec": {
   "display_name": "base",
   "language": "python",
   "name": "python3"
  },
  "language_info": {
   "codemirror_mode": {
    "name": "ipython",
    "version": 3
   },
   "file_extension": ".py",
   "mimetype": "text/x-python",
   "name": "python",
   "nbconvert_exporter": "python",
   "pygments_lexer": "ipython3",
   "version": "3.12.2"
  }
 },
 "nbformat": 4,
 "nbformat_minor": 2
}
