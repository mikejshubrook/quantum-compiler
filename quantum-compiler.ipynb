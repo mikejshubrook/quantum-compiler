{
 "cells": [
  {
   "cell_type": "markdown",
   "metadata": {},
   "source": [
    "This work was done as part of a three month project in collaboration with the Ion Technology group at the University of Sussex.\n",
    "\n",
    "In this file we are going to describe some basic concepts in quantum compilation, showing how to implement compilation of quantum gates using Qiskit modules, and finally produce a simulated quantum circuit that we have compiled into the native gate set of a trapped ion quantum computer.\n",
    "\n",
    "(I updated the code in 2025 to work on the newer version of Qiskit)"
   ]
  },
  {
   "cell_type": "markdown",
   "metadata": {},
   "source": [
    "# Classical and quantum compilation"
   ]
  },
  {
   "cell_type": "markdown",
   "metadata": {},
   "source": [
    "Explaining things in quantum mechanics (or quantum information theory, or quantum computing) is usually made easier by making analogies to the classical case where possible. For that reason, we will begin by understanding classical compilation.\n",
    "\n",
    "Compilation is the process of taking code written in a high level programming language (e.g. Python, C++, HTML, etc.) and converting it into the machine language that a computer can 'understand'. At its lowest level, machine language are the 'zeros and ones' that we often hear of.\n",
    "\n",
    "Quantum compilation is similar to classical compilation, in that we take a 'high-level' quantum algorithm (which can be expressed as an arbitrary unitary matrix on  qubits) and decompose it into a set of gates that we can actually perform on a quantum computer."
   ]
  },
  {
   "cell_type": "markdown",
   "metadata": {},
   "source": [
    "# Why do we need to compile?"
   ]
  },
  {
   "cell_type": "markdown",
   "metadata": {},
   "source": [
    "By combining unitaries together using tensory products and sequential multiplication, we can express arbitrary quantum algorithms on $n$ qubits as a single unitary opertor in a $2^{n}$ dimensional Hilbert space. If we can express an arbitrary quantum algorithm as a unitary matrix on $n$ qubits, why can't our quantum computers just implement this gate as it is? The answer is that there is no proposed way to implement gates on anything but one or two qubits. Additionally, quantum computers have very large engineering hurdles to overcome in their current state (only implementing single and two qubit gates), so being able to perform gates on multiple qubits is very unlikely to work.\n",
    "\n",
    "Quantum computation can be implemented on different engineering platforms, such as trapped ions, photons or superconducting qubits. Each of these has their own pros and cons, such as coherence time, gate fidelity, and measurement fidelity. They also all have their own native gate sets, which are the set of gates that can actually be performed on them.\n",
    "\n",
    "We can think of the native gate set as the 'machine language' of the quantum computer. So long as the native gate set is a universal set, then we can approximate any unitary, and therefore any quantum algorithm, on this quantum computer. For a native gate set to be universal, we mean that any unitary can be approximated to arbitrary accuracy using chains of gates in the set."
   ]
  },
  {
   "cell_type": "markdown",
   "metadata": {},
   "source": [
    "# What are the different steps of decomposition?\\n\",\n",
    "Say we have a quantum algorithm on $n$ qubits that we want to perform on a quantum computer. We know that this algorithm can be written as a unitary matrix belonging to the group $U \\in SU(2^{n})$. From [1] we know that this unitary can be *exactly* decomposed into a product of so called two-level unitaries. These are unitaries that only act non-trivially on two basis states. We also know that these two level unitaries can in turn be exactly decomposed into products of arbitrary single qubit gates, and a two qubit entangling gate such as the CNOT. Putting these ideas together, we find out that arbitrary quantum algorithms can be exactly decomposed into products of arbitrary single qubit gates, and two qubit entangling gates.\n",
    "\n",
    "So if the native gate set of our quantum computer has access to these gates, we are able to *exactly* execute *any* quantum algorithm on it. Unfortunely, no quantum computing platforms have this capability. By 'arbitrary single qubit gates', what we mean is a rotation on the Bloch sphere, by *any* angle, along *any* axis. The best that quantum computing platforms are able to do is rotations on the Bloch sphere by any angle, along two fixed, perpedicular, axes. Thankfully, though, combinations of such gates allow us to approximate the arbitrary single qubits we require.\n",
    "\n",
    "So as long as our quantum computer has access to two single qubit rotations, of arbitray angle, along two perpendicular axes of the Bloch sphere, and also has access to a two qubit entangling gate, then we can approximate any unitary with it (and therefore execute any quantum algorithm). Such a set of gates is referred to as a universal gate set."
   ]
  },
  {
   "cell_type": "markdown",
   "metadata": {},
   "source": [
    "# Tradeoffs in compilation\n",
    "    \n",
    "We can approximate a unitary that we want to implement by chaining together more and more gates from our native gate set. The more gates we use in our approximation the better it will be. If we want to improve the fidelity of our quantum computer, should we just chain together loads and loads of gates from the native gate set, to approximate the unitaries making up the quantum algorithm as closely as possible? No. That idea ignores the fact that each time we phyiscally implement a gate from the native gate set, there is some error associated with it. For this reason, there will be a trade off in the number of gates we use to approximate the unitary that represents the quantum algorithm we want to implement: more gates means that we get a better approximation, but more gates also means more error is accumulated."
   ]
  },
  {
   "cell_type": "markdown",
   "metadata": {},
   "source": [
    "# How does our simulator work?\n",
    "\n",
    "The main goal of this work is to test the fidelity of decomposition. We cannot perform the random two qubit gates used in our quantum volume calculator on a real quantum computer, but we can approximate them using our native gate set.\n",
    "\n",
    "In this file, we will run two different quantum circuits using the qiskit library. One will run the random two qubit gates as they are, and the other will decompose them into gates that can actually be performed on a trapped ion quantum computer. We will also add noise to this decomposed circuit, to simulate the errors that qubits in real systems pick up (in the form of decoherence, gate errors, and measurement errors). At the end, we run both circuits (ideal and noisy) and then compare the output states from the two. In this way, we can calculate the fidelity of our decomposed circuit, using the Uhlmann's measure of state fidelity [2].\n",
    "\n",
    "We can then decide on a reasonable fidelity, say 95%, and define the quantum volume as $nm$, provided that the fidelity is above 95%.\n",
    "\n",
    "We will see below that there are many trade offs to consider when decomposing circuits. We hope that this file will be interesting for users to play around with, and will also provide a good understanding of quantum gate decomposition. Please see the references at the end of the file for an in depth explanation of the concepts in this file.\n"
   ]
  },
  {
   "cell_type": "markdown",
   "metadata": {},
   "source": [
    "# Imports"
   ]
  },
  {
   "cell_type": "code",
   "execution_count": 1,
   "metadata": {},
   "outputs": [],
   "source": [
    "# Core scientific packages\n",
    "import numpy as np\n",
    "from numpy.polynomial import Polynomial as P\n",
    "\n",
    "# Qiskit visualization\n",
    "from qiskit.visualization import plot_histogram\n",
    "\n",
    "# Qiskit circuit components\n",
    "from qiskit.circuit.library import (\n",
    "    CXGate,  # Controlled-X gate\n",
    "    RXXGate  # RXX rotation gate (used for trapped ion implementation)\n",
    ")\n",
    "\n",
    "# Custom module imports for quantum compilation\n",
    "from fidelity_measures import *  # Fidelity calculation functions\n",
    "from circuit import *           # Circuit creation and manipulation\n",
    "from trapped_ion_noise import * # Trapped ion specific noise models"
   ]
  },
  {
   "cell_type": "markdown",
   "metadata": {},
   "source": [
    "# Define basis gate (two-qubit gate) and Euler basis (to decompose single qubit gates)"
   ]
  },
  {
   "cell_type": "markdown",
   "metadata": {},
   "source": [
    "This is where we decide the specific quantum computing architecture to perform the compilation on. Different architectures have different native gate sets which will be used in the decomposition process.\n",
    "\n",
    "Currently, the code is hard-coded to work with the native gate set of a trapped-ion quantum computer. In order to change this, the rotations within the 'make_circuit' function as well as the 'process_circuit_angles' function within 'circuit.py' need to be changed. Depending on the Euler basis (which is currently XYX), the 'rx' an 'ry' rotations need to be changed. Depending on the two-qubit basis gate (which is currently the RXX gate with a rotation angle of $\\frac{\\pi}{2}$, equivalent to the Molmer Sorensen gate) the 'rxx' gate needs to be changed."
   ]
  },
  {
   "cell_type": "code",
   "execution_count": 2,
   "metadata": {},
   "outputs": [],
   "source": [
    "# basis_gate = MolmerSorensen(np.pi/4)  # basis gate\n",
    "basis_gate = RXXGate(np.pi/2)  # basis gate\n",
    "euler_basis = \"XYX\"  # Euler basis \n"
   ]
  },
  {
   "cell_type": "markdown",
   "metadata": {},
   "source": [
    "# Choose the number of qubits and circuit depth"
   ]
  },
  {
   "cell_type": "code",
   "execution_count": 3,
   "metadata": {},
   "outputs": [],
   "source": [
    "number_of_qubits = 5 #choose number of qubits\n",
    "circuit_depth = 5 #choose depth of circuit"
   ]
  },
  {
   "cell_type": "markdown",
   "metadata": {},
   "source": [
    "# Add errors to gates creating a NoiseModel"
   ]
  },
  {
   "cell_type": "code",
   "execution_count": 4,
   "metadata": {},
   "outputs": [],
   "source": [
    "# The errors that we show hereare specific to a trapped-ion quantum computer. \n",
    "# For users who want to simulate different hardware, a unique NoiseModel should be created.\n",
    "total_noise_model = trapped_ion_noise_model(number_of_qubits, circuit_depth)\n",
    "\n",
    "# turn all the noise off\n",
    "# This should increase the fidelity of the compiled circuit to (close to) 1.\n",
    "# total_noise_model = None"
   ]
  },
  {
   "cell_type": "code",
   "execution_count": 5,
   "metadata": {},
   "outputs": [],
   "source": [
    "# Check what the noise model looks like\n",
    "# print(total_noise_model)"
   ]
  },
  {
   "cell_type": "markdown",
   "metadata": {},
   "source": [
    "# Run the decomposition and simulator"
   ]
  },
  {
   "cell_type": "code",
   "execution_count": 6,
   "metadata": {},
   "outputs": [
    {
     "name": "stdout",
     "output_type": "stream",
     "text": [
      "--- Run 1 of 5 ---\n",
      "Shuffling qubits...\n",
      "Shuttling qubits...\n",
      "Pairing qubits and applying two-qubit gates...\n",
      "Two qubit gate between qubits 3 and 0 \n",
      "Two qubit gate between qubits 2 and 4 \n",
      "Identity applied to Qubit 1\n",
      "\n",
      "--- Run 2 of 5 ---\n",
      "Shuffling qubits...\n",
      "Shuttling qubits...\n",
      "Pairing qubits and applying two-qubit gates...\n",
      "Two qubit gate between qubits 1 and 2 \n",
      "Two qubit gate between qubits 0 and 4 \n",
      "Identity applied to Qubit 3\n",
      "\n",
      "--- Run 3 of 5 ---\n",
      "Shuffling qubits...\n",
      "Shuttling qubits...\n",
      "Pairing qubits and applying two-qubit gates...\n",
      "Two qubit gate between qubits 2 and 0 \n",
      "Two qubit gate between qubits 3 and 1 \n",
      "Identity applied to Qubit 4\n",
      "\n",
      "--- Run 4 of 5 ---\n",
      "Shuffling qubits...\n",
      "Shuttling qubits...\n",
      "Pairing qubits and applying two-qubit gates...\n",
      "Two qubit gate between qubits 2 and 0 \n",
      "Two qubit gate between qubits 3 and 4 \n",
      "Identity applied to Qubit 1\n",
      "\n",
      "--- Run 5 of 5 ---\n",
      "Shuffling qubits...\n",
      "Shuttling qubits...\n",
      "Pairing qubits and applying two-qubit gates...\n",
      "Two qubit gate between qubits 3 and 1 \n",
      "Two qubit gate between qubits 4 and 0 \n",
      "Identity applied to Qubit 2\n",
      "\n"
     ]
    }
   ],
   "source": [
    "# calculate the quantum circuits\n",
    "qc_exact, qc_decomposed, qc_noisy = run_compiler(number_of_qubits, circuit_depth, basis_gate, euler_basis, total_noise_model)"
   ]
  },
  {
   "cell_type": "code",
   "execution_count": 7,
   "metadata": {},
   "outputs": [
    {
     "data": {
      "image/png": "[encoded data removed]",
      "text/plain": [
       "<Figure size 800x600 with 1 Axes>"
      ]
     },
     "execution_count": 7,
     "metadata": {},
     "output_type": "execute_result"
    }
   ],
   "source": [
    "# Run both circuits, calculate fidelity and plot histograms\n",
    "# The fielity is calculated by comparing the counts of the ideal circuit with the counts of the decomposed and noisy circuits.\n",
    "\n",
    "\n",
    "fid_decomposed, counts_exact, counts_decomp = circuit_fidelity(number_of_qubits, qc_exact, qc_decomposed, None)\n",
    "fid_noisy, counts_exact, counts_noisy = circuit_fidelity(number_of_qubits, qc_exact, qc_noisy, total_noise_model)\n",
    "\n",
    "legend = ['Ideal', 'Decomposed', 'Noisy']\n",
    "\n",
    "\n",
    "plot_histogram([counts_exact, counts_decomp, counts_noisy], figsize=(8,6), legend=legend, color=['crimson','midnightblue', 'forestgreen'],\n",
    "                title=f'Fidelity (decomposition)= {fid_decomposed:.10f} \\n Fidelity (noisy)= {fid_noisy:.10f}')\n"
   ]
  },
  {
   "cell_type": "markdown",
   "metadata": {},
   "source": [
    "# Print the ideal circuit"
   ]
  },
  {
   "cell_type": "code",
   "execution_count": 8,
   "metadata": {},
   "outputs": [
    {
     "name": "stdout",
     "output_type": "stream",
     "text": [
      "     ┌───┐┌──────────┐   ┌───┐                     ┌──────────┐┌───┐»\n",
      "q_0: ┤ I ├┤1         ├───┤ I ├─────────────────────┤0         ├┤ I ├»\n",
      "     ├───┤│          │   ├───┤    ┌───┐┌──────────┐│          │├───┤»\n",
      "q_1: ┤ I ├┤          ├───┤ I ├────┤ I ├┤0         ├┤          ├┤ I ├»\n",
      "     ├───┤│  U(3, 0) │┌──┴───┴───┐├───┤│  U(1, 2) ││          │├───┤»\n",
      "q_2: ┤ I ├┤          ├┤0         ├┤ I ├┤1         ├┤  U(0, 4) ├┤ I ├»\n",
      "     ├───┤│          ││          │├───┤└──┬───┬───┘│          │├───┤»\n",
      "q_3: ┤ I ├┤0         ├┤  U(2, 4) ├┤ I ├───┤ I ├────┤          ├┤ I ├»\n",
      "     ├───┤└──────────┘│          │├───┤   └───┘    │          │├───┤»\n",
      "q_4: ┤ I ├────────────┤1         ├┤ I ├────────────┤1         ├┤ I ├»\n",
      "     └───┘            └──────────┘└───┘            └──────────┘└───┘»\n",
      "c: 5/═══════════════════════════════════════════════════════════════»\n",
      "                                                                    »\n",
      "«     ┌──────────┐   ┌───┐         ┌──────────┐┌───┐                 »\n",
      "«q_0: ┤1         ├───┤ I ├─────────┤1         ├┤ I ├─────────────────»\n",
      "«     │          │┌──┴───┴───┐┌───┐│          │├───┤┌───┐┌──────────┐»\n",
      "«q_1: ┤  U(2, 0) ├┤1         ├┤ I ├┤  U(2, 0) ├┤ I ├┤ I ├┤1         ├»\n",
      "«     │          ││          │├───┤│          │├───┤├───┤│          │»\n",
      "«q_2: ┤0         ├┤  U(3, 1) ├┤ I ├┤0         ├┤ I ├┤ I ├┤  U(3, 1) ├»\n",
      "«     └──────────┘│          │├───┤├──────────┤├───┤└───┘│          │»\n",
      "«q_3: ────────────┤0         ├┤ I ├┤0         ├┤ I ├─────┤0         ├»\n",
      "«        ┌───┐    └──┬───┬───┘└───┘│  U(3, 4) │├───┤     └──────────┘»\n",
      "«q_4: ───┤ I ├───────┤ I ├─────────┤1         ├┤ I ├─────────────────»\n",
      "«        └───┘       └───┘         └──────────┘└───┘                 »\n",
      "«c: 5/═══════════════════════════════════════════════════════════════»\n",
      "«                                                                    »\n",
      "«     ┌──────────┐┌─┐            ┌─┐            \n",
      "«q_0: ┤1         ├┤M├────────────┤M├────────────\n",
      "«     │          │└╥┘┌─┐         └╥┘┌─┐         \n",
      "«q_1: ┤          ├─╫─┤M├──────────╫─┤M├─────────\n",
      "«     │          │ ║ └╥┘┌─┐       ║ └╥┘┌─┐      \n",
      "«q_2: ┤  U(4, 0) ├─╫──╫─┤M├───────╫──╫─┤M├──────\n",
      "«     │          │ ║  ║ └╥┘┌─┐    ║  ║ └╥┘┌─┐   \n",
      "«q_3: ┤          ├─╫──╫──╫─┤M├────╫──╫──╫─┤M├───\n",
      "«     │          │ ║  ║  ║ └╥┘┌─┐ ║  ║  ║ └╥┘┌─┐\n",
      "«q_4: ┤0         ├─╫──╫──╫──╫─┤M├─╫──╫──╫──╫─┤M├\n",
      "«     └──────────┘ ║  ║  ║  ║ └╥┘ ║  ║  ║  ║ └╥┘\n",
      "«c: 5/═════════════╩══╩══╩══╩══╩══╩══╩══╩══╩══╩═\n",
      "«                  0  1  2  3  4  0  1  2  3  4 \n"
     ]
    }
   ],
   "source": [
    "print(qc_exact)"
   ]
  },
  {
   "cell_type": "markdown",
   "metadata": {},
   "source": [
    "# Print the Noisy/Decomposed Circuit"
   ]
  },
  {
   "cell_type": "code",
   "execution_count": 9,
   "metadata": {},
   "outputs": [
    {
     "name": "stdout",
     "output_type": "stream",
     "text": [
      "     ┌───────┐ ┌────────────┐┌───────────┐  ┌───────────┐  ┌───────────┐»\n",
      "q_0: ┤ Rz(0) ├─┤ Rx(2.1839) ├┤ Ry(1.445) ├──┤ Rx(2.433) ├──┤1          ├»\n",
      "     ├───────┤ └─┬───────┬──┘└─┬───────┬─┘  ├───────────┴┐ │           │»\n",
      "q_1: ┤ Rz(0) ├───┤ Rz(0) ├─────┤ Rz(0) ├────┤ Rx(-2.596) ├─┤           ├»\n",
      "     ├───────┤┌──┴───────┴──┐┌─┴───────┴─┐  ├────────────┤ │  Rxx(π/2) │»\n",
      "q_2: ┤ Rz(0) ├┤ Rx(-2.3999) ├┤ Ry(1.316) ├──┤ Rx(1.2321) ├─┤           ├»\n",
      "     ├───────┤├─────────────┤├───────────┤ ┌┴────────────┴┐│           │»\n",
      "q_3: ┤ Rz(0) ├┤ Rx(-2.3125) ├┤ Ry(2.862) ├─┤ Rx(-0.13028) ├┤0          ├»\n",
      "     ├───────┤├─────────────┤├───────────┴┐├─────────────┬┘└───────────┘»\n",
      "q_4: ┤ Rz(0) ├┤ Rx(-2.8158) ├┤ Ry(1.1223) ├┤ Rx(-1.5585) ├──────────────»\n",
      "     └───────┘└─────────────┘└────────────┘└─────────────┘              »\n",
      "c: 5/═══════════════════════════════════════════════════════════════════»\n",
      "                                                                        »\n",
      "«      ┌─────────┐   ┌─────────┐  ┌─────────────┐               ┌───────────┐»\n",
      "«q_0: ─┤ Rx(π/4) ├───┤ Ry(π/2) ├──┤ Rx(0.45251) ├───────────────┤1          ├»\n",
      "«     ┌┴─────────┴─┐┌┴─────────┴─┐└─────────────┘               │           │»\n",
      "«q_1: ┤ Ry(1.7258) ├┤ Rx(1.5063) ├──────────────────────────────┤           ├»\n",
      "«     ├───────────┬┘└┬──────────┬┘┌─────────────┐  ┌──────────┐ │  Rxx(π/2) │»\n",
      "«q_2: ┤0          ├──┤ Rx(-π/4) ├─┤ Ry(0.92879) ├──┤ Rx(3π/4) ├─┤           ├»\n",
      "«     │           │  ├──────────┤ └┬────────────┤  ├──────────┤ │           │»\n",
      "«q_3: ┤  Rxx(π/2) ├──┤ Rx(-π/4) ├──┤ Ry(0.8933) ├──┤ Rx(3π/4) ├─┤0          ├»\n",
      "«     │           │  ├─────────┬┘  └┬─────────┬─┘┌─┴──────────┴┐└───────────┘»\n",
      "«q_4: ┤1          ├──┤ Rx(π/4) ├────┤ Ry(π/2) ├──┤ Rx(0.50661) ├─────────────»\n",
      "«     └───────────┘  └─────────┘    └─────────┘  └─────────────┘             »\n",
      "«c: 5/═══════════════════════════════════════════════════════════════════════»\n",
      "«                                                                            »\n",
      "«     ┌───────────┐ ┌─────────┐   ┌──────────┐              ┌───────────┐»\n",
      "«q_0: ┤ Rx(-3π/4) ├─┤ Ry(π/2) ├───┤ Rx(-π/4) ├──────────────┤1          ├»\n",
      "«     └───────────┘ └─────────┘   └──────────┘              │           │»\n",
      "«q_1: ──────────────────────────────────────────────────────┤           ├»\n",
      "«     ┌───────────┐ ┌──────────┐┌─────────────┐ ┌─────────┐ │  Rxx(π/2) │»\n",
      "«q_2: ┤0          ├─┤ Rx(3π/4) ├┤ Ry(0.87517) ├─┤ Rx(π/4) ├─┤           ├»\n",
      "«     │           │ ├──────────┤├─────────────┤┌┴─────────┴┐│           │»\n",
      "«q_3: ┤  Rxx(π/2) ├─┤ Rx(-π/4) ├┤ Ry(0.34814) ├┤ Rx(-3π/4) ├┤0          ├»\n",
      "«     │           │┌┴──────────┤└─┬─────────┬─┘└┬──────────┤└───────────┘»\n",
      "«q_4: ┤1          ├┤ Rx(-3π/4) ├──┤ Ry(π/2) ├───┤ Rx(-π/4) ├─────────────»\n",
      "«     └───────────┘└───────────┘  └─────────┘   └──────────┘             »\n",
      "«c: 5/═══════════════════════════════════════════════════════════════════»\n",
      "«                                                                        »\n",
      "«     ┌────────────┐ ┌────────────┐ ┌────────────┐   ┌───────┐   »\n",
      "«q_0: ┤ Rx(2.7442) ├─┤ Ry(1.0085) ├─┤ Rx(1.7909) ├───┤ Rz(0) ├───»\n",
      "«     └────────────┘ └────────────┘ └────────────┘   └───────┘   »\n",
      "«q_1: ───────────────────────────────────────────────────────────»\n",
      "«     ┌───────────┐ ┌─────────────┐ ┌───────────┐  ┌────────────┐»\n",
      "«q_2: ┤0          ├─┤ Rx(0.43201) ├─┤ Ry(1.648) ├──┤ Rx(-1.338) ├»\n",
      "«     │           │ ├─────────────┤┌┴───────────┴┐ ├────────────┤»\n",
      "«q_3: ┤  Rxx(π/2) ├─┤ Rx(0.85396) ├┤ Ry(0.94005) ├─┤ Rx(1.8412) ├»\n",
      "«     │           │ └┬────────────┤└┬────────────┤┌┴────────────┤»\n",
      "«q_4: ┤1          ├──┤ Rx(1.0142) ├─┤ Ry(1.5594) ├┤ Rx(0.77457) ├»\n",
      "«     └───────────┘  └────────────┘ └────────────┘└─────────────┘»\n",
      "«c: 5/═══════════════════════════════════════════════════════════»\n",
      "«                                                                »\n",
      "«     ┌─────────────┐ ┌────────────┐┌────────────┐                             »\n",
      "«q_0: ┤ Rx(-2.1648) ├─┤ Ry(1.3457) ├┤ Rx(2.4209) ├─────────────────────────────»\n",
      "«     └─────────────┘ └────────────┘└────────────┘                ┌───────────┐»\n",
      "«q_1: ────────────────────────────────────────────────────────────┤0          ├»\n",
      "«        ┌───────┐   ┌─────────────┐┌────────────┐ ┌────────────┐ │  Rxx(π/2) │»\n",
      "«q_2: ───┤ Rz(0) ├───┤ Rx(-1.9099) ├┤ Ry(1.3199) ├─┤ Rx(2.1324) ├─┤1          ├»\n",
      "«        ├───────┤   └──┬───────┬──┘└─┬───────┬──┘┌┴────────────┴┐├───────────┤»\n",
      "«q_3: ───┤ Rz(0) ├──────┤ Rz(0) ├─────┤ Rz(0) ├───┤ Rx(-0.89502) ├┤ Ry(2.232) ├»\n",
      "«        ├───────┤   ┌──┴───────┴──┐┌─┴───────┴──┐├─────────────┬┘└───────────┘»\n",
      "«q_4: ───┤ Rz(0) ├───┤ Rx(-1.1045) ├┤ Ry(1.4411) ├┤ Rx(-1.6995) ├──────────────»\n",
      "«        └───────┘   └─────────────┘└────────────┘└─────────────┘              »\n",
      "«c: 5/═════════════════════════════════════════════════════════════════════════»\n",
      "«                                                                              »\n",
      "«     ┌───────────┐  ┌──────────┐  ┌─────────────┐  ┌──────────┐              »\n",
      "«q_0: ┤0          ├──┤ Rx(-π/4) ├──┤ Ry(0.56293) ├──┤ Rx(3π/4) ├──────────────»\n",
      "«     │           │  ├──────────┤  └┬────────────┤  ├──────────┤ ┌───────────┐»\n",
      "«q_1: ┤           ├──┤ Rx(-π/4) ├───┤ Ry(0.9996) ├──┤ Rx(3π/4) ├─┤0          ├»\n",
      "«     │           │  ├─────────┬┘   └┬─────────┬─┘┌─┴──────────┴┐│  Rxx(π/2) │»\n",
      "«q_2: ┤  Rxx(π/2) ├──┤ Rx(π/4) ├─────┤ Ry(π/2) ├──┤ Rx(0.62235) ├┤1          ├»\n",
      "«     │           │┌─┴─────────┴──┐  └─────────┘  └─────────────┘└───────────┘»\n",
      "«q_3: ┤           ├┤ Rx(-0.25253) ├───────────────────────────────────────────»\n",
      "«     │           │└─┬─────────┬──┘  ┌─────────┐  ┌─────────────┐             »\n",
      "«q_4: ┤1          ├──┤ Rx(π/4) ├─────┤ Ry(π/2) ├──┤ Rx(0.72146) ├─────────────»\n",
      "«     └───────────┘  └─────────┘     └─────────┘  └─────────────┘             »\n",
      "«c: 5/════════════════════════════════════════════════════════════════════════»\n",
      "«                                                                             »\n",
      "«     ┌───────────┐ ┌──────────┐┌─────────────┐ ┌───────────┐             »\n",
      "«q_0: ┤0          ├─┤ Rx(-π/4) ├┤ Ry(0.14864) ├─┤ Rx(-3π/4) ├─────────────»\n",
      "«     │           │ ├──────────┤├─────────────┴┐├───────────┤┌───────────┐»\n",
      "«q_1: ┤           ├─┤ Rx(-π/4) ├┤ Ry(0.034788) ├┤ Rx(-3π/4) ├┤0          ├»\n",
      "«     │           │┌┴──────────┤└─┬─────────┬──┘└┬──────────┤│  Rxx(π/2) │»\n",
      "«q_2: ┤  Rxx(π/2) ├┤ Rx(-3π/4) ├──┤ Ry(π/2) ├────┤ Rx(-π/4) ├┤1          ├»\n",
      "«     │           │└───────────┘  └─────────┘    └──────────┘└───────────┘»\n",
      "«q_3: ┤           ├───────────────────────────────────────────────────────»\n",
      "«     │           │┌───────────┐  ┌─────────┐    ┌──────────┐             »\n",
      "«q_4: ┤1          ├┤ Rx(-3π/4) ├──┤ Ry(π/2) ├────┤ Rx(-π/4) ├─────────────»\n",
      "«     └───────────┘└───────────┘  └─────────┘    └──────────┘             »\n",
      "«c: 5/════════════════════════════════════════════════════════════════════»\n",
      "«                                                                         »\n",
      "«     ┌───────────┐┌─────────────┐ ┌────────────┐ ┌────────────┐┌───────┐»\n",
      "«q_0: ┤0          ├┤ Rx(-1.5106) ├─┤ Ry(0.6919) ├─┤ Rx(1.7395) ├┤ Rz(0) ├»\n",
      "«     │           │├─────────────┤ ├────────────┤┌┴────────────┤├───────┤»\n",
      "«q_1: ┤           ├┤ Rx(-2.2145) ├─┤ Ry(1.0634) ├┤ Rx(0.96903) ├┤ Rz(0) ├»\n",
      "«     │           │├─────────────┴┐├────────────┤├─────────────┤├───────┤»\n",
      "«q_2: ┤  Rxx(π/2) ├┤ Rx(-0.68621) ├┤ Ry(2.1584) ├┤ Rx(0.93097) ├┤ Rz(0) ├»\n",
      "«     │           │└──────────────┘└────────────┘└─────────────┘└───────┘»\n",
      "«q_3: ┤           ├──────────────────────────────────────────────────────»\n",
      "«     │           │┌─────────────┐ ┌────────────┐┌─────────────┐┌───────┐»\n",
      "«q_4: ┤1          ├┤ Rx(-1.9066) ├─┤ Ry(2.6971) ├┤ Rx(-1.2337) ├┤ Rz(0) ├»\n",
      "«     └───────────┘└─────────────┘ └────────────┘└─────────────┘└───────┘»\n",
      "«c: 5/═══════════════════════════════════════════════════════════════════»\n",
      "«                                                                        »\n",
      "«     ┌─────────────┐ ┌────────────┐ ┌────────────┐ ┌───────────┐ ┌─────────┐  »\n",
      "«q_0: ┤ Rx(-2.6667) ├─┤ Ry(1.2999) ├─┤ Rx(2.2883) ├─┤1          ├─┤ Rx(π/4) ├──»\n",
      "«     ├─────────────┤┌┴────────────┤┌┴────────────┤ │           │┌┴─────────┴┐ »\n",
      "«q_1: ┤ Rx(-2.4065) ├┤ Ry(0.85677) ├┤ Rx(0.42882) ├─┤  Rxx(π/2) ├┤1          ├─»\n",
      "«     ├─────────────┤└┬───────────┬┘├─────────────┴┐│           ││           │ »\n",
      "«q_2: ┤ Rx(0.47268) ├─┤ Ry(1.615) ├─┤ Rx(-0.22662) ├┤0          ├┤  Rxx(π/2) ├─»\n",
      "«     └─────────────┘ └───────────┘ └──────────────┘└───────────┘│           │ »\n",
      "«q_3: ───────────────────────────────────────────────────────────┤0          ├─»\n",
      "«        ┌───────┐      ┌───────┐   ┌─────────────┐ ┌───────────┐├───────────┴┐»\n",
      "«q_4: ───┤ Rz(0) ├──────┤ Rz(0) ├───┤ Rx(0.67282) ├─┤ Ry(2.079) ├┤ Rx(1.7918) ├»\n",
      "«        └───────┘      └───────┘   └─────────────┘ └───────────┘└────────────┘»\n",
      "«c: 5/═════════════════════════════════════════════════════════════════════════»\n",
      "«                                                                              »\n",
      "«     ┌─────────┐ ┌─────────────┐               ┌───────────┐┌───────────┐»\n",
      "«q_0: ┤ Ry(π/2) ├─┤ Rx(0.55922) ├───────────────┤1          ├┤ Rx(-3π/4) ├»\n",
      "«     ├─────────┤ └─┬─────────┬─┘┌─────────────┐│           │├───────────┤»\n",
      "«q_1: ┤ Rx(π/4) ├───┤ Ry(π/2) ├──┤ Rx(0.65415) ├┤  Rxx(π/2) ├┤1          ├»\n",
      "«     ├─────────┴┐┌─┴─────────┴─┐└─┬──────────┬┘│           ││           │»\n",
      "«q_2: ┤ Rx(-π/4) ├┤ Ry(0.97362) ├──┤ Rx(3π/4) ├─┤0          ├┤  Rxx(π/2) ├»\n",
      "«     ├──────────┤├─────────────┤  ├──────────┤ └───────────┘│           │»\n",
      "«q_3: ┤ Rx(-π/4) ├┤ Ry(0.62776) ├──┤ Rx(3π/4) ├──────────────┤0          ├»\n",
      "«     └──────────┘└─────────────┘  └──────────┘              └───────────┘»\n",
      "«q_4: ────────────────────────────────────────────────────────────────────»\n",
      "«                                                                         »\n",
      "«c: 5/════════════════════════════════════════════════════════════════════»\n",
      "«                                                                         »\n",
      "«      ┌─────────┐   ┌──────────┐              ┌───────────┐┌────────────┐»\n",
      "«q_0: ─┤ Ry(π/2) ├───┤ Rx(-π/4) ├──────────────┤1          ├┤ Rx(1.4139) ├»\n",
      "«     ┌┴─────────┴┐  ├─────────┬┘  ┌──────────┐│           │├───────────┬┘»\n",
      "«q_1: ┤ Rx(-3π/4) ├──┤ Ry(π/2) ├───┤ Rx(-π/4) ├┤  Rxx(π/2) ├┤1          ├─»\n",
      "«     └┬──────────┤┌─┴─────────┴─┐┌┴──────────┤│           ││           │ »\n",
      "«q_2: ─┤ Rx(-π/4) ├┤ Ry(0.16131) ├┤ Rx(-3π/4) ├┤0          ├┤  Rxx(π/2) ├─»\n",
      "«      ├──────────┤├─────────────┤├───────────┤└───────────┘│           │ »\n",
      "«q_3: ─┤ Rx(-π/4) ├┤ Ry(0.26038) ├┤ Rx(-3π/4) ├─────────────┤0          ├─»\n",
      "«      └──────────┘└─────────────┘└───────────┘             └───────────┘ »\n",
      "«q_4: ────────────────────────────────────────────────────────────────────»\n",
      "«                                                                         »\n",
      "«c: 5/════════════════════════════════════════════════════════════════════»\n",
      "«                                                                         »\n",
      "«      ┌───────────┐   ┌────────────┐   ┌───────┐    ┌──────────────┐»\n",
      "«q_0: ─┤ Ry(1.863) ├───┤ Rx(2.5107) ├───┤ Rz(0) ├────┤ Rx(-0.23306) ├»\n",
      "«     ┌┴───────────┴┐  ├────────────┤┌──┴───────┴──┐ └──┬───────┬───┘»\n",
      "«q_1: ┤ Rx(-1.3732) ├──┤ Ry(1.2248) ├┤ Rx(-2.5671) ├────┤ Rz(0) ├────»\n",
      "«     ├─────────────┴┐┌┴────────────┤├─────────────┴┐   ├───────┤    »\n",
      "«q_2: ┤ Rx(-0.81625) ├┤ Ry(0.91104) ├┤ Rx(-0.50183) ├───┤ Rz(0) ├────»\n",
      "«     ├─────────────┬┘└┬────────────┤├─────────────┬┘   ├───────┤    »\n",
      "«q_3: ┤ Rx(-2.0239) ├──┤ Ry(1.4233) ├┤ Rx(-1.5976) ├────┤ Rz(0) ├────»\n",
      "«     └─────────────┘  └────────────┘└─────────────┘    └───────┘    »\n",
      "«q_4: ───────────────────────────────────────────────────────────────»\n",
      "«                                                                    »\n",
      "«c: 5/═══════════════════════════════════════════════════════════════»\n",
      "«                                                                    »\n",
      "«      ┌────────────┐  ┌────────────┐               ┌───────────┐»\n",
      "«q_0: ─┤ Ry(1.6737) ├──┤ Rx(2.0946) ├───────────────┤1          ├»\n",
      "«      └─┬───────┬──┘  └─┬───────┬──┘┌─────────────┐│           │»\n",
      "«q_1: ───┤ Rz(0) ├───────┤ Rz(0) ├───┤ Rx(0.40968) ├┤  Rxx(π/2) ├»\n",
      "«     ┌──┴───────┴──┐  ┌─┴───────┴──┐└┬────────────┤│           │»\n",
      "«q_2: ┤ Rx(-2.0122) ├──┤ Ry(1.8831) ├─┤ Rx(2.1328) ├┤0          ├»\n",
      "«     ├─────────────┴┐┌┴────────────┤ ├────────────┤├───────────┤»\n",
      "«q_3: ┤ Rx(-0.96731) ├┤ Ry(0.27562) ├─┤ Rx(-1.433) ├┤0          ├»\n",
      "«     └──────────────┘└─────────────┘ └────────────┘│  Rxx(π/2) │»\n",
      "«q_4: ──────────────────────────────────────────────┤1          ├»\n",
      "«                                                   └───────────┘»\n",
      "«c: 5/═══════════════════════════════════════════════════════════»\n",
      "«                                                                »\n",
      "«       ┌─────────┐    ┌─────────┐   ┌─────────────┐┌───────────┐»\n",
      "«q_0: ──┤ Rx(π/4) ├────┤ Ry(π/2) ├───┤ Rx(0.57216) ├┤1          ├»\n",
      "«     ┌─┴─────────┴─┐┌─┴─────────┴──┐└─────────────┘│           │»\n",
      "«q_1: ┤ Ry(0.58575) ├┤ Rx(0.053839) ├───────────────┤  Rxx(π/2) ├»\n",
      "«     └─┬──────────┬┘├─────────────┬┘  ┌──────────┐ │           │»\n",
      "«q_2: ──┤ Rx(-π/4) ├─┤ Ry(0.75086) ├───┤ Rx(3π/4) ├─┤0          ├»\n",
      "«       ├──────────┤ └┬────────────┤  ┌┴──────────┤ ├───────────┤»\n",
      "«q_3: ──┤ Rx(3π/4) ├──┤ Ry(2.7211) ├──┤ Rx(-3π/4) ├─┤0          ├»\n",
      "«       ├──────────┤  ├────────────┤  ├───────────┤ │  Rxx(π/2) │»\n",
      "«q_4: ──┤ Rx(-π/4) ├──┤ Ry(1.5384) ├──┤ Rx(-3π/4) ├─┤1          ├»\n",
      "«       └──────────┘  └────────────┘  └───────────┘ └───────────┘»\n",
      "«c: 5/═══════════════════════════════════════════════════════════»\n",
      "«                                                                »\n",
      "«      ┌───────────┐    ┌─────────┐    ┌──────────┐ ┌───────────┐»\n",
      "«q_0: ─┤ Rx(-3π/4) ├────┤ Ry(π/2) ├────┤ Rx(-π/4) ├─┤1          ├»\n",
      "«      └───────────┘    └─────────┘    └──────────┘ │           │»\n",
      "«q_1: ──────────────────────────────────────────────┤  Rxx(π/2) ├»\n",
      "«       ┌──────────┐  ┌─────────────┐ ┌───────────┐ │           │»\n",
      "«q_2: ──┤ Rx(-π/4) ├──┤ Ry(0.17118) ├─┤ Rx(-3π/4) ├─┤0          ├»\n",
      "«     ┌─┴──────────┴─┐└┬────────────┤┌┴───────────┴┐└─┬───────┬─┘»\n",
      "«q_3: ┤ Rx(-0.11102) ├─┤ Ry(1.4661) ├┤ Rx(-1.3485) ├──┤ Rz(0) ├──»\n",
      "«     └┬────────────┬┘ ├────────────┤├─────────────┤  ├───────┤  »\n",
      "«q_4: ─┤ Rx(1.4968) ├──┤ Ry(1.3083) ├┤ Rx(-3.0855) ├──┤ Rz(0) ├──»\n",
      "«      └────────────┘  └────────────┘└─────────────┘  └───────┘  »\n",
      "«c: 5/═══════════════════════════════════════════════════════════»\n",
      "«                                                                »\n",
      "«      ┌────────────┐┌────────────┐ ┌────────────┐ ┌───────┐┌─────────────┐»\n",
      "«q_0: ─┤ Rx(-2.707) ├┤ Ry(1.2245) ├─┤ Rx(-1.054) ├─┤ Rz(0) ├┤ Rx(-1.2723) ├»\n",
      "«      └────────────┘└────────────┘ └────────────┘ └───────┘└┬───────────┬┘»\n",
      "«q_1: ───────────────────────────────────────────────────────┤1          ├─»\n",
      "«     ┌─────────────┐┌────────────┐┌─────────────┐ ┌───────┐ │           │ »\n",
      "«q_2: ┤ Rx(0.66504) ├┤ Ry(2.4279) ├┤ Rx(0.62584) ├─┤ Rz(0) ├─┤  Rxx(π/2) ├─»\n",
      "«     └┬────────────┤├────────────┤├─────────────┤ └───────┘ │           │ »\n",
      "«q_3: ─┤ Rx(2.5307) ├┤ Ry(1.6478) ├┤ Rx(-1.3094) ├───────────┤0          ├─»\n",
      "«      ├────────────┤├────────────┤├─────────────┴┐          └───────────┘ »\n",
      "«q_4: ─┤ Rx(-1.204) ├┤ Ry(2.4375) ├┤ Rx(-0.74686) ├────────────────────────»\n",
      "«      └────────────┘└────────────┘└──────────────┘                        »\n",
      "«c: 5/═════════════════════════════════════════════════════════════════════»\n",
      "«                                                                          »\n",
      "«     ┌─────────────┐ ┌───────────┐                                         »\n",
      "«q_0: ┤ Ry(0.90031) ├─┤ Rx(0.754) ├─────────────────────────────────────────»\n",
      "«     └─┬─────────┬─┘ └┬─────────┬┘ ┌─────────────┐            ┌───────────┐»\n",
      "«q_1: ──┤ Rx(π/4) ├────┤ Ry(π/2) ├──┤ Rx(0.14935) ├────────────┤1          ├»\n",
      "«       └┬───────┬┘    └─────────┘  └─────┬─┬─────┘            │           │»\n",
      "«q_2: ───┤ Rz(0) ├────────────────────────┤M├──────────────────┤  Rxx(π/2) ├»\n",
      "«       ┌┴───────┴─┐ ┌─────────────┐      └╥┘      ┌──────────┐│           │»\n",
      "«q_3: ──┤ Rx(-π/4) ├─┤ Ry(0.74087) ├───────╫───────┤ Rx(3π/4) ├┤0          ├»\n",
      "«       └──────────┘ └─────────────┘       ║       └──────────┘└───────────┘»\n",
      "«q_4: ─────────────────────────────────────╫────────────────────────────────»\n",
      "«                                          ║                                »\n",
      "«c: 5/═════════════════════════════════════╩════════════════════════════════»\n",
      "«                                          2                                »\n",
      "«     ┌───────────┐ ┌─────────┐   ┌─────────┐  ┌─────────────┐             »\n",
      "«q_0: ┤1          ├─┤ Rx(π/4) ├───┤ Ry(π/2) ├──┤ Rx(0.66934) ├─────────────»\n",
      "«     │           │┌┴─────────┴┐  ├─────────┤  └─┬──────────┬┘┌───────────┐»\n",
      "«q_1: ┤           ├┤ Rx(-3π/4) ├──┤ Ry(π/2) ├────┤ Rx(-π/4) ├─┤1          ├»\n",
      "«     │           │└───────────┘  └─────────┘    └──────────┘ │           │»\n",
      "«q_2: ┤  Rxx(π/2) ├───────────────────────────────────────────┤  Rxx(π/2) ├»\n",
      "«     │           │ ┌──────────┐┌─────────────┐ ┌───────────┐ │           │»\n",
      "«q_3: ┤           ├─┤ Rx(-π/4) ├┤ Ry(0.12176) ├─┤ Rx(-3π/4) ├─┤0          ├»\n",
      "«     │           │ ├──────────┤├─────────────┤ └┬──────────┤ └───────────┘»\n",
      "«q_4: ┤0          ├─┤ Rx(-π/4) ├┤ Ry(0.96086) ├──┤ Rx(3π/4) ├──────────────»\n",
      "«     └───────────┘ └──────────┘└─────────────┘  └──────────┘              »\n",
      "«c: 5/═════════════════════════════════════════════════════════════════════»\n",
      "«                                                                          »\n",
      "«     ┌───────────┐ ┌───────────┐   ┌─────────┐    ┌──────────┐  ┌───────────┐»\n",
      "«q_0: ┤1          ├─┤ Rx(-3π/4) ├───┤ Ry(π/2) ├────┤ Rx(-π/4) ├──┤1          ├»\n",
      "«     │           │┌┴───────────┴┐ ┌┴─────────┴─┐┌─┴──────────┴─┐│           │»\n",
      "«q_1: ┤           ├┤ Rx(-2.1513) ├─┤ Ry(2.1166) ├┤ Rx(0.027736) ├┤           ├»\n",
      "«     │           │└─────────────┘ └────────────┘└──────────────┘│           │»\n",
      "«q_2: ┤  Rxx(π/2) ├──────────────────────────────────────────────┤  Rxx(π/2) ├»\n",
      "«     │           │┌─────────────┐ ┌────────────┐ ┌────────────┐ │           │»\n",
      "«q_3: ┤           ├┤ Rx(-1.3566) ├─┤ Ry(1.1817) ├─┤ Rx(2.3218) ├─┤           ├»\n",
      "«     │           │└─┬──────────┬┘┌┴────────────┤ └┬─────────┬─┘ │           │»\n",
      "«q_4: ┤0          ├──┤ Rx(3π/4) ├─┤ Ry(0.38872) ├──┤ Rx(π/4) ├───┤0          ├»\n",
      "«     └───────────┘  └──────────┘ └─────────────┘  └─────────┘   └───────────┘»\n",
      "«c: 5/════════════════════════════════════════════════════════════════════════»\n",
      "«                                                                             »\n",
      "«     ┌──────────────┐┌─────────────┐ ┌────────────┐              »\n",
      "«q_0: ┤ Rx(-0.64897) ├┤ Ry(0.71286) ├─┤ Rx(1.7528) ├──────────────»\n",
      "«     └─────┬─┬──────┘└─────────────┘ └────────────┘              »\n",
      "«q_1: ──────┤M├───────────────────────────────────────────────────»\n",
      "«           └╥┘                                                   »\n",
      "«q_2: ───────╫────────────────────────────────────────────────────»\n",
      "«            ║              ┌─┐                                   »\n",
      "«q_3: ───────╫──────────────┤M├───────────────────────────────────»\n",
      "«            ║              └╥┘      ┌─────────────┐┌────────────┐»\n",
      "«q_4: ───────╫───────────────╫───────┤ Rx(0.98757) ├┤ Ry(1.9719) ├»\n",
      "«            ║               ║       └─────────────┘└────────────┘»\n",
      "«c: 5/═══════╩═══════════════╩════════════════════════════════════»\n",
      "«            1               3                                    »\n",
      "«                   ┌─┐   \n",
      "«q_0: ──────────────┤M├───\n",
      "«                   └╥┘   \n",
      "«q_1: ───────────────╫────\n",
      "«                    ║    \n",
      "«q_2: ───────────────╫────\n",
      "«                    ║    \n",
      "«q_3: ───────────────╫────\n",
      "«     ┌────────────┐ ║ ┌─┐\n",
      "«q_4: ┤ Rx(2.8944) ├─╫─┤M├\n",
      "«     └────────────┘ ║ └╥┘\n",
      "«c: 5/═══════════════╩══╩═\n",
      "«                    0  4 \n"
     ]
    }
   ],
   "source": [
    "print(qc_decomposed)"
   ]
  },
  {
   "cell_type": "code",
   "execution_count": null,
   "metadata": {},
   "outputs": [],
   "source": []
  },
  {
   "cell_type": "code",
   "execution_count": null,
   "metadata": {},
   "outputs": [],
   "source": []
  }
 ],
 "metadata": {
  "kernelspec": {
   "display_name": "quantum-compiler-env",
   "language": "python",
   "name": "python3"
  },
  "language_info": {
   "codemirror_mode": {
    "name": "ipython",
    "version": 3
   },
   "file_extension": ".py",
   "mimetype": "text/x-python",
   "name": "python",
   "nbconvert_exporter": "python",
   "pygments_lexer": "ipython3",
   "version": "3.12.2"
  }
 },
 "nbformat": 4,
 "nbformat_minor": 2
}
