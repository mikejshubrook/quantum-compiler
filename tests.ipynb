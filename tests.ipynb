{
 "cells": [
  {
   "cell_type": "code",
   "execution_count": 1,
   "metadata": {},
   "outputs": [],
   "source": [
    "# Here we run tests that show whether the compilation process is working or not.\n",
    "# These tests should be run whenever the user changes the code, to ensure that there are no \n",
    "# unexpected bugs."
   ]
  },
  {
   "cell_type": "code",
   "execution_count": 2,
   "metadata": {},
   "outputs": [],
   "source": [
    "# Imports\n",
    "# import python packages\n",
    "import numpy as np\n",
    "\n",
    "# import qiskit packages\n",
    "from qiskit.visualization import plot_histogram\n",
    "from qiskit.circuit.library import RXXGate\n",
    "from qiskit import QuantumCircuit, transpile\n",
    "from qiskit.quantum_info import random_unitary\n",
    "\n",
    "# import other functions for the compiler\n",
    "from fidelity_measures import *\n",
    "from circuit import *"
   ]
  },
  {
   "cell_type": "code",
   "execution_count": 3,
   "metadata": {},
   "outputs": [],
   "source": [
    "# Set up: choose the basis for decomposition, qubit number, circuit depth and Noise model\n",
    "\n",
    "basis_gate = RXXGate(np.pi/2)  # basis gate\n",
    "euler_basis = \"XYX\"  # Euler basis \n",
    "\n",
    "number_of_qubits = 2 # choose number of qubits\n",
    "circuit_depth = 1 # choose depth of circuit\n",
    "\n",
    "total_noise_model = None  # no noise model for tests"
   ]
  },
  {
   "cell_type": "code",
   "execution_count": 13,
   "metadata": {},
   "outputs": [
    {
     "name": "stdout",
     "output_type": "stream",
     "text": [
      "Best fidelity: 1.0 with 0 basis gates\n",
      "Fidelity = 1.0000000000 -- Compilation successful!\n"
     ]
    }
   ],
   "source": [
    "# Test 1: Decompose a tensor product gate\n",
    "\n",
    "# Description: Create a two qubit gate which is the tensor product of two single qubit gates.\n",
    "# i.e. it has no entangling capability. \n",
    "\n",
    "# Expected output:\n",
    "# The algorithm should find that the optimal decomposition occcurs with ZERO instances of the two qubit basis gate.\n",
    "\n",
    "# Create ideal quantum circuit (no decomposition, no noise)\n",
    "qc_exact = QuantumCircuit(number_of_qubits, number_of_qubits)\n",
    "\n",
    "# Create noisy quantum circuit (decomposition and noise)\n",
    "qc_compiled = QuantumCircuit(number_of_qubits, number_of_qubits)\n",
    "\n",
    "# define qubit numbers\n",
    "m=0\n",
    "n=1\n",
    "\n",
    "# create target unitary out of pauli-z gates on each qubit\n",
    "target_unitary = Operator(np.kron(np.array([[1, 0], [0, -1]], dtype=complex), \n",
    "                                  np.array([[1, 0], [0, -1]], dtype=complex)))\n",
    "\n",
    "# # create target unitary out of random single qubit gates\n",
    "# (sometimes this will have the highest fidelity with more than 0 basis gates\n",
    "# which is due to numerical noise\n",
    "# Only ever with 0 or 2 instances of the basis gate, I think when it chooses 2 it is essentially \n",
    "# undoing any entanglement created by the first instance of the basis gate, therefore giving itself more single qubit gates\n",
    "# to approximate the target with in the decomposition)\n",
    "# target_unitary = Operator(np.kron(random_unitary(2).data,\n",
    "#                                   random_unitary(2).data)) \n",
    "                                  \n",
    "# apply the target unitary to the ideal circuit\n",
    "qc_exact.unitary(target_unitary, [m, n], label='target unitary')\n",
    "\n",
    "# run compilation \n",
    "qc_compiled = compile(target_unitary, basis_gate, euler_basis, qc_compiled, m, n, noise_model=None)\n",
    "\n",
    "# run both circuits, calculate fidelity\n",
    "fid, counts_exact, counts_decomp = circuit_fidelity(number_of_qubits, qc_exact, qc_compiled, total_noise_model)\n",
    "\n",
    "# test the fidelity\n",
    "if fid >= 0.99:\n",
    "    print(f'Fidelity = {fid:.10f} -- Compilation successful!')"
   ]
  },
  {
   "cell_type": "code",
   "execution_count": null,
   "metadata": {},
   "outputs": [],
   "source": []
  },
  {
   "cell_type": "code",
   "execution_count": null,
   "metadata": {},
   "outputs": [],
   "source": []
  }
 ],
 "metadata": {
  "kernelspec": {
   "display_name": "base",
   "language": "python",
   "name": "python3"
  },
  "language_info": {
   "codemirror_mode": {
    "name": "ipython",
    "version": 3
   },
   "file_extension": ".py",
   "mimetype": "text/x-python",
   "name": "python",
   "nbconvert_exporter": "python",
   "pygments_lexer": "ipython3",
   "version": "3.12.2"
  }
 },
 "nbformat": 4,
 "nbformat_minor": 2
}
